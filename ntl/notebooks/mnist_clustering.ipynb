{
 "cells": [
  {
   "cell_type": "code",
   "execution_count": 1,
   "metadata": {},
   "outputs": [],
   "source": [
    "%load_ext autoreload\n",
    "%autoreload 2"
   ]
  },
  {
   "cell_type": "code",
   "execution_count": 2,
   "metadata": {},
   "outputs": [],
   "source": [
    "# LOCAL\n",
    "# DATA_PATH = '/Users/ivan_zorin/Documents/DEV/data/mnist'\n",
    "# LOG_PATH = '/Users/ivan_zorin/Documents/DEV/runs/ntl/mnist'\n",
    "\n",
    "\n",
    "# ZHORES\n",
    "DATA_PATH = '/trinity/home/ivan.zorin/dev/data/'\n",
    "PROJECT_PATH = '/trinity/home/ivan.zorin/dev/code/ntl/'\n",
    "LOG_PATH = '/beegfs/home/ivan.zorin/dev/logs/mnist'\n"
   ]
  },
  {
   "cell_type": "code",
   "execution_count": 3,
   "metadata": {},
   "outputs": [],
   "source": [
    "import numpy as np\n",
    "import matplotlib.pyplot as plt\n",
    "from tqdm.auto import tqdm\n",
    "import os\n",
    "\n",
    "import torch \n",
    "from torchvision.datasets import MNIST\n",
    "from torchvision.transforms import ToTensor\n",
    "import torch.nn as nn\n",
    "import torch.nn.functional as F\n",
    "from torch.utils import data\n",
    "from torch.optim import Adam\n",
    "from torch.utils.tensorboard import SummaryWriter\n",
    "\n",
    "import sys\n",
    "sys.path.append(PROJECT_PATH)\n",
    "from ntl.utils import get_date"
   ]
  },
  {
   "cell_type": "code",
   "execution_count": 4,
   "metadata": {},
   "outputs": [],
   "source": [
    "mnist_data = MNIST(DATA_PATH, train=True, download=True, transform=ToTensor())"
   ]
  },
  {
   "cell_type": "code",
   "execution_count": 5,
   "metadata": {},
   "outputs": [],
   "source": [
    "# select any class to be anomalous data\n",
    "anomal_class = 5\n",
    "anomal_idxs = np.where(mnist_data.targets == anomal_class)[0]\n",
    "# get idxs of anomalous samples\n",
    "normal_idxs = set(np.arange(len(mnist_data))) - set(anomal_idxs)\n",
    "normal_idxs = np.array(list(normal_idxs))\n",
    "# split dataset into: \n",
    "#  - normal_train - normal samples for training\n",
    "#  - anomal_test, normal_test = test_data - both normal and anomalous samples\n",
    "#  - anomal_exposed - anomalous samples seen by a model during train\n",
    "normal_mnist = data.Subset(mnist_data, normal_idxs)\n",
    "anomal_mnist = data.Subset(mnist_data, anomal_idxs) \n",
    "normal_train, normal_test = data.random_split(normal_mnist, [normal_idxs.shape[0] - anomal_idxs.shape[0], anomal_idxs.shape[0]]) # NOTE \n",
    "\n",
    "num_exposed_outliers = 8\n",
    "anomal_test, anomal_exposed = data.random_split(anomal_mnist, [len(anomal_mnist) - num_exposed_outliers, num_exposed_outliers]) # NOTE\n",
    "test_data = data.ConcatDataset([normal_test, anomal_test]) # NOTE"
   ]
  },
  {
   "cell_type": "code",
   "execution_count": 6,
   "metadata": {},
   "outputs": [],
   "source": [
    "class DummyModel(nn.Module):\n",
    "    def __init__(self, emb_dim):\n",
    "        super().__init__()\n",
    "        self.emb_dim = emb_dim\n",
    "        self.linear = nn.Linear(emb_dim, emb_dim)\n",
    "        self.layer = nn.Identity()\n",
    "        \n",
    "    def forward(self, x):\n",
    "        bs = x.shape[0]\n",
    "        emb = torch.rand(bs, self.emb_dim).to(x.device)\n",
    "        return emb, x\n",
    "    \n",
    "    \n",
    "    \n",
    "class AEModel(nn.Module):\n",
    "    def __init__(self, bias=True):\n",
    "        super().__init__()\n",
    "        self.bias = bias\n",
    "        channels = [1, 4, 16, 32, 64]\n",
    "        strides = [2, 2, 1, 1]\n",
    "        layers = []\n",
    "        for i in range(len(channels) - 1):\n",
    "\n",
    "            layers += [\n",
    "                nn.Conv2d(in_channels=channels[i], out_channels=channels[i+1], stride=strides[i], kernel_size=3, padding=0, bias=bias),\n",
    "                nn.BatchNorm2d(num_features=channels[i+1]),\n",
    "                nn.Dropout(0.15),\n",
    "                nn.ReLU(),\n",
    "                # nn.MaxPool2d(kernel_size=2, padding=1)\n",
    "            ]\n",
    "            \n",
    "        # layers += [nn.Flatten()]    \n",
    "        self.encoder = nn.Sequential(*layers)\n",
    "        \n",
    "        channels.reverse()\n",
    "        strides.reverse()\n",
    "        output_paddings = [0, 0, 0, 1]\n",
    "        layers = []\n",
    "        for i in range(len(channels) - 1):\n",
    "\n",
    "            layers += [\n",
    "                nn.ConvTranspose2d(in_channels=channels[i], out_channels=channels[i+1], stride=strides[i], kernel_size=3, padding=0, bias=bias, output_padding=output_paddings[i]),\n",
    "                nn.BatchNorm2d(num_features=channels[i+1]),\n",
    "                nn.Dropout(0.15),\n",
    "                nn.ReLU()\n",
    "            ]\n",
    "            \n",
    "        self.decoder = nn.Sequential(*layers)\n",
    "            \n",
    "    def encode(self, x):\n",
    "        return self.encoder(x)\n",
    "    \n",
    "    def decode(self, emb):\n",
    "        return self.decoder(emb)\n",
    "        \n",
    "    def forward(self, x):\n",
    "        emb = self.encoder(x)\n",
    "        x = self.decoder(emb)\n",
    "        emb = emb.reshape(emb.shape[0], -1)\n",
    "        \n",
    "        return emb, x\n"
   ]
  },
  {
   "cell_type": "code",
   "execution_count": 7,
   "metadata": {},
   "outputs": [],
   "source": [
    "####################IS NOT USED################################################\n",
    "class ContrastiveLoss(nn.Module):\n",
    "    def __init__(self, eps=0.1):\n",
    "        super().__init__()\n",
    "        self.eps = eps\n",
    "        \n",
    "    def prepare_terms(self, embeddings, negatives):\n",
    "        bs = embeddings.shape[0]\n",
    "        anchors, positives = embeddings[:bs//2], embeddings[bs//2:]\n",
    "        if negatives.shape[0] < bs // 2:\n",
    "            tile_shape = [int(np.ceil((bs // 2) / negatives.shape[0]))] + [1] * (len(negatives.shape) - 1)\n",
    "            negatives = negatives.tile(*tile_shape)[:bs // 2]    \n",
    "            perm_idxs = torch.randperm(negatives.shape[0])\n",
    "            negatives = negatives[perm_idxs]\n",
    "        else:\n",
    "            perm_idxs = torch.randperm(negatives.shape[0])\n",
    "            negatives = negatives[perm_idxs]\n",
    "            negatives = negatives[:bs // 2]\n",
    "            \n",
    "        return anchors, positives, negatives\n",
    "    \n",
    "    def forward(self, embeddings, negatives):\n",
    "        anchors, positives, negatives = self.prepare_terms(embeddings, negatives)\n",
    "    \n",
    "        # compute loss\n",
    "        loss = torch.norm(anchors - positives, 2)\n",
    "#######################################################################\n",
    "\n",
    "\n",
    "def prepare_terms(embeddings, negatives):\n",
    "    \"\"\"\n",
    "    prepare anchor, positive and negative terms of triplet loss\n",
    "    \"\"\"\n",
    "    bs = embeddings.shape[0]\n",
    "    anchors, positives = embeddings[:bs//2], embeddings[bs//2:]\n",
    "    if negatives.shape[0] < bs // 2:\n",
    "        tile_shape = [int(np.ceil((bs // 2) / negatives.shape[0]))] + [1] * (len(negatives.shape) - 1)\n",
    "        negatives = negatives.tile(*tile_shape)[:bs // 2]    \n",
    "        perm_idxs = torch.randperm(negatives.shape[0])\n",
    "        negatives = negatives[perm_idxs]\n",
    "    else:\n",
    "        perm_idxs = torch.randperm(negatives.shape[0])\n",
    "        negatives = negatives[perm_idxs]\n",
    "        negatives = negatives[:bs // 2]\n",
    "        \n",
    "    return anchors, positives, negatives\n",
    "\n",
    "\n",
    "def vis_of_random_sample(model, loader, device):\n",
    "    \"\"\"\n",
    "    returns random sample from the loader and its prediction by the model\n",
    "    \"\"\"\n",
    "    idx = np.random.choice(len(loader.dataset))\n",
    "    x, target = loader.dataset[idx]\n",
    "    _, x_hat = model(x[None].to(device))\n",
    "    x_hat = x_hat.detach().cpu().squeeze(0)\n",
    "    \n",
    "    return x, x_hat\n",
    "\n",
    "\n",
    "\n",
    "def tsne_of_embeddings():\n",
    "    \"\"\"\n",
    "    visualizes the embeddings with tSNE\n",
    "    \"\"\"\n",
    "    pass"
   ]
  },
  {
   "cell_type": "code",
   "execution_count": 8,
   "metadata": {},
   "outputs": [],
   "source": [
    "# params \n",
    "device = 'cuda' if torch.cuda.is_available() else 'cpu'\n",
    "batch_size = 64\n",
    "lr = 0.001\n",
    "triplet_loss_weight = 0.5\n",
    "is_contrastive = True\n",
    "n_epochs = 20\n",
    "\n",
    "# loaders: train, test_normal, test_anomalous, exposed\n",
    "train_loader = data.DataLoader(normal_train, batch_size=batch_size, shuffle=True)\n",
    "test_loader = data.DataLoader(test_data, batch_size=batch_size)\n",
    "test_normal_loader = data.DataLoader(normal_test, batch_size=batch_size, shuffle=False)\n",
    "test_anomal_loader = data.DataLoader(anomal_test, batch_size=batch_size, shuffle=False)\n",
    "exposed_loader = data.DataLoader(anomal_exposed, batch_size=len(anomal_exposed))\n",
    "\n",
    "# model\n",
    "model = AEModel().to(device)\n",
    "\n",
    "# optimizer\n",
    "optim = torch.optim.Adam(model.parameters(), lr=lr)\n",
    "\n",
    "# loss\n",
    "rec_loss_fn = nn.MSELoss(reduction='none')\n",
    "triplet_loss_fn = nn.TripletMarginLoss(reduction='none')\n",
    "\n"
   ]
  },
  {
   "cell_type": "code",
   "execution_count": null,
   "metadata": {},
   "outputs": [],
   "source": []
  },
  {
   "cell_type": "code",
   "execution_count": 9,
   "metadata": {},
   "outputs": [],
   "source": [
    "def train(logger, epoch):\n",
    "    model.train()\n",
    "    t = tqdm(train_loader, leave=False)\n",
    "    t.set_description('train')\n",
    "    for i, batch in enumerate(t):\n",
    "        optim.zero_grad()\n",
    "        \n",
    "        x, target = batch\n",
    "        x = x.to(device)\n",
    "        emb, x_hat = model(x)\n",
    "        # LOSS\n",
    "        # reconstruction loss\n",
    "        rec_loss = rec_loss_fn(x, x_hat)\n",
    "        rec_loss = rec_loss.mean(list(range(1, len(rec_loss.shape))))\n",
    "        # contrastive loss\n",
    "        if is_contrastive:\n",
    "            outliers, _ = next(iter(exposed_loader))\n",
    "            # outliers = outliers\n",
    "            neg, _ = model(outliers.to(device))\n",
    "            anchor, pos, neg = prepare_terms(emb, neg)\n",
    "            contrastive_loss = triplet_loss_fn(anchor, pos, neg)\n",
    "        else:\n",
    "            contrastive_loss = 0\n",
    "        # total loss\n",
    "        rec_loss = rec_loss.mean()\n",
    "        contrastive_loss = contrastive_loss.mean()\n",
    "        loss = rec_loss + triplet_loss_weight * contrastive_loss\n",
    "        loss.backward()\n",
    "        optim.step()\n",
    "        \n",
    "        step = epoch * len(t) + i\n",
    "        logger.add_scalar('train/rec_loss', rec_loss.item(), step)\n",
    "        logger.add_scalar('train/contrastive_loss', contrastive_loss.item(), step)\n",
    "        logger.add_scalar('train/loss', loss.item(), step)\n",
    "    \n",
    "    \n",
    "def validate(logger, epoch):\n",
    "    model.eval()\n",
    "    \n",
    "    def validate_on_loader(loader, loader_name=''):\n",
    "        embeddings = []\n",
    "        losses = []\n",
    "        targets = []\n",
    "        t = tqdm(loader, leave=False)\n",
    "        t.set_description(loader_name)\n",
    "        for i, batch in enumerate(t):\n",
    "            with torch.no_grad():\n",
    "                x, target = batch\n",
    "                x = x.to(device)\n",
    "                emb, x_hat = model(x)\n",
    "                loss = F.mse_loss(x, x_hat, reduction='none')\n",
    "                loss = loss.mean(list(range(1, len(loss.shape)))).detach().cpu().numpy()\n",
    "                \n",
    "                losses.append(loss)\n",
    "                embeddings.append(emb.detach().cpu().numpy())\n",
    "                targets.append(target.cpu().numpy())\n",
    "\n",
    "        losses = np.concatenate(losses)\n",
    "        embeddings = np.concatenate(embeddings)\n",
    "        targets = np.concatenate(targets)\n",
    "                \n",
    "        return losses, embeddings, targets\n",
    "    \n",
    "    embeddings = []\n",
    "    losses = []\n",
    "    \n",
    "    normal_loss, normal_emb, normal_targets = validate_on_loader(test_normal_loader, 'normal')\n",
    "    anomal_loss, anomal_emb, anomal_targets = validate_on_loader(test_anomal_loader, 'anomalous')\n",
    "    exposed_loss, exposed_emb, exposed_targets = validate_on_loader(exposed_loader, 'exposed')\n",
    "    \n",
    "    # stack embeddings\n",
    "    # stack targets\n",
    "    \n",
    "    # plot embeddings, visualizing slices\n",
    "    tsne_of_embeddings()\n",
    "    \n",
    "    # visualization of reconstruction of random NORMAL sample\n",
    "    x, x_hat = vis_of_random_sample(model, test_normal_loader, device)\n",
    "    logger.add_image('normal/origin', x, epoch)\n",
    "    logger.add_image('normal/reconstructed', x_hat, epoch)\n",
    "    \n",
    "    "
   ]
  },
  {
   "cell_type": "code",
   "execution_count": 10,
   "metadata": {},
   "outputs": [
    {
     "name": "stdout",
     "output_type": "stream",
     "text": [
      "run is at /beegfs/home/ivan.zorin/dev/logs/mnist/23_10_20_15_23\n"
     ]
    },
    {
     "data": {
      "application/vnd.jupyter.widget-view+json": {
       "model_id": "ad09eff44e934fefbfda41927d7f33db",
       "version_major": 2,
       "version_minor": 0
      },
      "text/plain": [
       "  0%|          | 0/50 [00:00<?, ?it/s]"
      ]
     },
     "metadata": {},
     "output_type": "display_data"
    },
    {
     "data": {
      "application/vnd.jupyter.widget-view+json": {
       "model_id": "e605f40483af43759ecfdb295e1eece7",
       "version_major": 2,
       "version_minor": 0
      },
      "text/plain": [
       "  0%|          | 0/769 [00:00<?, ?it/s]"
      ]
     },
     "metadata": {},
     "output_type": "display_data"
    },
    {
     "data": {
      "application/vnd.jupyter.widget-view+json": {
       "model_id": "4d4d4b1e68434ed7bd8310d7b6aa892e",
       "version_major": 2,
       "version_minor": 0
      },
      "text/plain": [
       "  0%|          | 0/85 [00:00<?, ?it/s]"
      ]
     },
     "metadata": {},
     "output_type": "display_data"
    },
    {
     "data": {
      "application/vnd.jupyter.widget-view+json": {
       "model_id": "372ec1c5b027490cbb0f89a2e0afe99c",
       "version_major": 2,
       "version_minor": 0
      },
      "text/plain": [
       "  0%|          | 0/85 [00:00<?, ?it/s]"
      ]
     },
     "metadata": {},
     "output_type": "display_data"
    },
    {
     "data": {
      "application/vnd.jupyter.widget-view+json": {
       "model_id": "b976b5dd90864c029a39de2d38a7e617",
       "version_major": 2,
       "version_minor": 0
      },
      "text/plain": [
       "  0%|          | 0/1 [00:00<?, ?it/s]"
      ]
     },
     "metadata": {},
     "output_type": "display_data"
    },
    {
     "data": {
      "application/vnd.jupyter.widget-view+json": {
       "model_id": "df7477654f8142b290507829ded0e084",
       "version_major": 2,
       "version_minor": 0
      },
      "text/plain": [
       "  0%|          | 0/769 [00:00<?, ?it/s]"
      ]
     },
     "metadata": {},
     "output_type": "display_data"
    },
    {
     "data": {
      "application/vnd.jupyter.widget-view+json": {
       "model_id": "dc4c6a6c389543fdb68053515f875a02",
       "version_major": 2,
       "version_minor": 0
      },
      "text/plain": [
       "  0%|          | 0/85 [00:00<?, ?it/s]"
      ]
     },
     "metadata": {},
     "output_type": "display_data"
    },
    {
     "data": {
      "application/vnd.jupyter.widget-view+json": {
       "model_id": "b3fadaf61aa2488799972d1515af1b76",
       "version_major": 2,
       "version_minor": 0
      },
      "text/plain": [
       "  0%|          | 0/85 [00:00<?, ?it/s]"
      ]
     },
     "metadata": {},
     "output_type": "display_data"
    },
    {
     "data": {
      "application/vnd.jupyter.widget-view+json": {
       "model_id": "39f1c341856f45c3b7424f89bb428dda",
       "version_major": 2,
       "version_minor": 0
      },
      "text/plain": [
       "  0%|          | 0/1 [00:00<?, ?it/s]"
      ]
     },
     "metadata": {},
     "output_type": "display_data"
    },
    {
     "data": {
      "application/vnd.jupyter.widget-view+json": {
       "model_id": "6c36b35adccb4753867612f672a59f7c",
       "version_major": 2,
       "version_minor": 0
      },
      "text/plain": [
       "  0%|          | 0/769 [00:00<?, ?it/s]"
      ]
     },
     "metadata": {},
     "output_type": "display_data"
    },
    {
     "data": {
      "application/vnd.jupyter.widget-view+json": {
       "model_id": "7bc86d4f90ca4d4792fbe06dac229c31",
       "version_major": 2,
       "version_minor": 0
      },
      "text/plain": [
       "  0%|          | 0/85 [00:00<?, ?it/s]"
      ]
     },
     "metadata": {},
     "output_type": "display_data"
    },
    {
     "data": {
      "application/vnd.jupyter.widget-view+json": {
       "model_id": "deb0ce4848844622bef05dccfbb0b8cc",
       "version_major": 2,
       "version_minor": 0
      },
      "text/plain": [
       "  0%|          | 0/85 [00:00<?, ?it/s]"
      ]
     },
     "metadata": {},
     "output_type": "display_data"
    },
    {
     "data": {
      "application/vnd.jupyter.widget-view+json": {
       "model_id": "ac511de1002a4640b59d528806d20a69",
       "version_major": 2,
       "version_minor": 0
      },
      "text/plain": [
       "  0%|          | 0/1 [00:00<?, ?it/s]"
      ]
     },
     "metadata": {},
     "output_type": "display_data"
    },
    {
     "data": {
      "application/vnd.jupyter.widget-view+json": {
       "model_id": "3fb1041185f74378acc598dbc4e3264e",
       "version_major": 2,
       "version_minor": 0
      },
      "text/plain": [
       "  0%|          | 0/769 [00:00<?, ?it/s]"
      ]
     },
     "metadata": {},
     "output_type": "display_data"
    },
    {
     "data": {
      "application/vnd.jupyter.widget-view+json": {
       "model_id": "fbdb121571e04b4bb1f9a0512bfdc70a",
       "version_major": 2,
       "version_minor": 0
      },
      "text/plain": [
       "  0%|          | 0/85 [00:00<?, ?it/s]"
      ]
     },
     "metadata": {},
     "output_type": "display_data"
    },
    {
     "data": {
      "application/vnd.jupyter.widget-view+json": {
       "model_id": "6d10543e881a4d22af82a1d2bf63f3f7",
       "version_major": 2,
       "version_minor": 0
      },
      "text/plain": [
       "  0%|          | 0/85 [00:00<?, ?it/s]"
      ]
     },
     "metadata": {},
     "output_type": "display_data"
    },
    {
     "data": {
      "application/vnd.jupyter.widget-view+json": {
       "model_id": "b27506fdacf7426b8936a39e443b7815",
       "version_major": 2,
       "version_minor": 0
      },
      "text/plain": [
       "  0%|          | 0/1 [00:00<?, ?it/s]"
      ]
     },
     "metadata": {},
     "output_type": "display_data"
    },
    {
     "data": {
      "application/vnd.jupyter.widget-view+json": {
       "model_id": "3c848276039542b68b2f0a496d3de8b2",
       "version_major": 2,
       "version_minor": 0
      },
      "text/plain": [
       "  0%|          | 0/769 [00:00<?, ?it/s]"
      ]
     },
     "metadata": {},
     "output_type": "display_data"
    },
    {
     "data": {
      "application/vnd.jupyter.widget-view+json": {
       "model_id": "0d691204861f4c5084c92ed71534371f",
       "version_major": 2,
       "version_minor": 0
      },
      "text/plain": [
       "  0%|          | 0/85 [00:00<?, ?it/s]"
      ]
     },
     "metadata": {},
     "output_type": "display_data"
    },
    {
     "data": {
      "application/vnd.jupyter.widget-view+json": {
       "model_id": "4f9f195f13574ed1a9efb2e7f821882e",
       "version_major": 2,
       "version_minor": 0
      },
      "text/plain": [
       "  0%|          | 0/85 [00:00<?, ?it/s]"
      ]
     },
     "metadata": {},
     "output_type": "display_data"
    },
    {
     "data": {
      "application/vnd.jupyter.widget-view+json": {
       "model_id": "a39613e7edd24094a5ef4c6e9c9297ed",
       "version_major": 2,
       "version_minor": 0
      },
      "text/plain": [
       "  0%|          | 0/1 [00:00<?, ?it/s]"
      ]
     },
     "metadata": {},
     "output_type": "display_data"
    },
    {
     "data": {
      "application/vnd.jupyter.widget-view+json": {
       "model_id": "3a7fbab7c67b4c5c8987a7fd3837093a",
       "version_major": 2,
       "version_minor": 0
      },
      "text/plain": [
       "  0%|          | 0/769 [00:00<?, ?it/s]"
      ]
     },
     "metadata": {},
     "output_type": "display_data"
    },
    {
     "data": {
      "application/vnd.jupyter.widget-view+json": {
       "model_id": "c5d3a4997eee422e848c46c8eab382d3",
       "version_major": 2,
       "version_minor": 0
      },
      "text/plain": [
       "  0%|          | 0/85 [00:00<?, ?it/s]"
      ]
     },
     "metadata": {},
     "output_type": "display_data"
    },
    {
     "data": {
      "application/vnd.jupyter.widget-view+json": {
       "model_id": "da91eb86091340bb97d3eee1b3221834",
       "version_major": 2,
       "version_minor": 0
      },
      "text/plain": [
       "  0%|          | 0/85 [00:00<?, ?it/s]"
      ]
     },
     "metadata": {},
     "output_type": "display_data"
    },
    {
     "data": {
      "application/vnd.jupyter.widget-view+json": {
       "model_id": "20968921ca004450a2357bbd26d9ade3",
       "version_major": 2,
       "version_minor": 0
      },
      "text/plain": [
       "  0%|          | 0/1 [00:00<?, ?it/s]"
      ]
     },
     "metadata": {},
     "output_type": "display_data"
    },
    {
     "data": {
      "application/vnd.jupyter.widget-view+json": {
       "model_id": "804a54daae7f4ddfa4ea86a8f00a465c",
       "version_major": 2,
       "version_minor": 0
      },
      "text/plain": [
       "  0%|          | 0/769 [00:00<?, ?it/s]"
      ]
     },
     "metadata": {},
     "output_type": "display_data"
    },
    {
     "data": {
      "application/vnd.jupyter.widget-view+json": {
       "model_id": "9d2c39b9c3394f4ea683daac42c9b09e",
       "version_major": 2,
       "version_minor": 0
      },
      "text/plain": [
       "  0%|          | 0/85 [00:00<?, ?it/s]"
      ]
     },
     "metadata": {},
     "output_type": "display_data"
    },
    {
     "data": {
      "application/vnd.jupyter.widget-view+json": {
       "model_id": "24821f39cc724924a16f9573b52de4e3",
       "version_major": 2,
       "version_minor": 0
      },
      "text/plain": [
       "  0%|          | 0/85 [00:00<?, ?it/s]"
      ]
     },
     "metadata": {},
     "output_type": "display_data"
    },
    {
     "data": {
      "application/vnd.jupyter.widget-view+json": {
       "model_id": "e1a53332204a48558425d63004e0afc3",
       "version_major": 2,
       "version_minor": 0
      },
      "text/plain": [
       "  0%|          | 0/1 [00:00<?, ?it/s]"
      ]
     },
     "metadata": {},
     "output_type": "display_data"
    },
    {
     "data": {
      "application/vnd.jupyter.widget-view+json": {
       "model_id": "48a425bda00d4fda935d8cb1aebc157c",
       "version_major": 2,
       "version_minor": 0
      },
      "text/plain": [
       "  0%|          | 0/769 [00:00<?, ?it/s]"
      ]
     },
     "metadata": {},
     "output_type": "display_data"
    },
    {
     "data": {
      "application/vnd.jupyter.widget-view+json": {
       "model_id": "4bd2d521cf704c7dbd616e1e9ac5f7db",
       "version_major": 2,
       "version_minor": 0
      },
      "text/plain": [
       "  0%|          | 0/85 [00:00<?, ?it/s]"
      ]
     },
     "metadata": {},
     "output_type": "display_data"
    },
    {
     "data": {
      "application/vnd.jupyter.widget-view+json": {
       "model_id": "311dba9b69e0491583bad58a09268250",
       "version_major": 2,
       "version_minor": 0
      },
      "text/plain": [
       "  0%|          | 0/85 [00:00<?, ?it/s]"
      ]
     },
     "metadata": {},
     "output_type": "display_data"
    },
    {
     "data": {
      "application/vnd.jupyter.widget-view+json": {
       "model_id": "fddc610209fa40ad9ddba3788ad4ac45",
       "version_major": 2,
       "version_minor": 0
      },
      "text/plain": [
       "  0%|          | 0/1 [00:00<?, ?it/s]"
      ]
     },
     "metadata": {},
     "output_type": "display_data"
    },
    {
     "data": {
      "application/vnd.jupyter.widget-view+json": {
       "model_id": "5041d6281a3c47e3b78b3dc09601cec8",
       "version_major": 2,
       "version_minor": 0
      },
      "text/plain": [
       "  0%|          | 0/769 [00:00<?, ?it/s]"
      ]
     },
     "metadata": {},
     "output_type": "display_data"
    },
    {
     "data": {
      "application/vnd.jupyter.widget-view+json": {
       "model_id": "eec06e8266804ed39dbd9c7c30617625",
       "version_major": 2,
       "version_minor": 0
      },
      "text/plain": [
       "  0%|          | 0/85 [00:00<?, ?it/s]"
      ]
     },
     "metadata": {},
     "output_type": "display_data"
    },
    {
     "data": {
      "application/vnd.jupyter.widget-view+json": {
       "model_id": "590b2c2919c746b08ddceda34185d59d",
       "version_major": 2,
       "version_minor": 0
      },
      "text/plain": [
       "  0%|          | 0/85 [00:00<?, ?it/s]"
      ]
     },
     "metadata": {},
     "output_type": "display_data"
    },
    {
     "data": {
      "application/vnd.jupyter.widget-view+json": {
       "model_id": "3beed056415b411891dd10ce5d5b8aad",
       "version_major": 2,
       "version_minor": 0
      },
      "text/plain": [
       "  0%|          | 0/1 [00:00<?, ?it/s]"
      ]
     },
     "metadata": {},
     "output_type": "display_data"
    },
    {
     "data": {
      "application/vnd.jupyter.widget-view+json": {
       "model_id": "01408320d92a4b0693cb97220fc66c14",
       "version_major": 2,
       "version_minor": 0
      },
      "text/plain": [
       "  0%|          | 0/769 [00:00<?, ?it/s]"
      ]
     },
     "metadata": {},
     "output_type": "display_data"
    },
    {
     "data": {
      "application/vnd.jupyter.widget-view+json": {
       "model_id": "4aa8a3d57fac4b069896a40f0b7a9c91",
       "version_major": 2,
       "version_minor": 0
      },
      "text/plain": [
       "  0%|          | 0/85 [00:00<?, ?it/s]"
      ]
     },
     "metadata": {},
     "output_type": "display_data"
    },
    {
     "data": {
      "application/vnd.jupyter.widget-view+json": {
       "model_id": "de94fbe880504b17b2662325c5d3182b",
       "version_major": 2,
       "version_minor": 0
      },
      "text/plain": [
       "  0%|          | 0/85 [00:00<?, ?it/s]"
      ]
     },
     "metadata": {},
     "output_type": "display_data"
    },
    {
     "data": {
      "application/vnd.jupyter.widget-view+json": {
       "model_id": "212ba5c93c664430b6235637706627fa",
       "version_major": 2,
       "version_minor": 0
      },
      "text/plain": [
       "  0%|          | 0/1 [00:00<?, ?it/s]"
      ]
     },
     "metadata": {},
     "output_type": "display_data"
    },
    {
     "data": {
      "application/vnd.jupyter.widget-view+json": {
       "model_id": "7f0f39d977f4414290ac01ffbcb1db90",
       "version_major": 2,
       "version_minor": 0
      },
      "text/plain": [
       "  0%|          | 0/769 [00:00<?, ?it/s]"
      ]
     },
     "metadata": {},
     "output_type": "display_data"
    },
    {
     "data": {
      "application/vnd.jupyter.widget-view+json": {
       "model_id": "6381edbc9adb44648073fe7501faeadf",
       "version_major": 2,
       "version_minor": 0
      },
      "text/plain": [
       "  0%|          | 0/85 [00:00<?, ?it/s]"
      ]
     },
     "metadata": {},
     "output_type": "display_data"
    },
    {
     "data": {
      "application/vnd.jupyter.widget-view+json": {
       "model_id": "e2864e9b03574e89aebb82a70c185dd0",
       "version_major": 2,
       "version_minor": 0
      },
      "text/plain": [
       "  0%|          | 0/85 [00:00<?, ?it/s]"
      ]
     },
     "metadata": {},
     "output_type": "display_data"
    },
    {
     "data": {
      "application/vnd.jupyter.widget-view+json": {
       "model_id": "898a387f015b47ec8da3c7a49cb8e457",
       "version_major": 2,
       "version_minor": 0
      },
      "text/plain": [
       "  0%|          | 0/1 [00:00<?, ?it/s]"
      ]
     },
     "metadata": {},
     "output_type": "display_data"
    },
    {
     "data": {
      "application/vnd.jupyter.widget-view+json": {
       "model_id": "becec94e99684edd99cc185233dbdea1",
       "version_major": 2,
       "version_minor": 0
      },
      "text/plain": [
       "  0%|          | 0/769 [00:00<?, ?it/s]"
      ]
     },
     "metadata": {},
     "output_type": "display_data"
    },
    {
     "data": {
      "application/vnd.jupyter.widget-view+json": {
       "model_id": "bbe15c03b5c243a0825d3a417dff8f0f",
       "version_major": 2,
       "version_minor": 0
      },
      "text/plain": [
       "  0%|          | 0/85 [00:00<?, ?it/s]"
      ]
     },
     "metadata": {},
     "output_type": "display_data"
    },
    {
     "data": {
      "application/vnd.jupyter.widget-view+json": {
       "model_id": "0879daac07044b0b8cc2713c495b04e1",
       "version_major": 2,
       "version_minor": 0
      },
      "text/plain": [
       "  0%|          | 0/85 [00:00<?, ?it/s]"
      ]
     },
     "metadata": {},
     "output_type": "display_data"
    },
    {
     "data": {
      "application/vnd.jupyter.widget-view+json": {
       "model_id": "4575e5fe10f341db8bb89c9b7f847ce6",
       "version_major": 2,
       "version_minor": 0
      },
      "text/plain": [
       "  0%|          | 0/1 [00:00<?, ?it/s]"
      ]
     },
     "metadata": {},
     "output_type": "display_data"
    },
    {
     "data": {
      "application/vnd.jupyter.widget-view+json": {
       "model_id": "e3787ba114f949ffb710208b4ce1da92",
       "version_major": 2,
       "version_minor": 0
      },
      "text/plain": [
       "  0%|          | 0/769 [00:00<?, ?it/s]"
      ]
     },
     "metadata": {},
     "output_type": "display_data"
    },
    {
     "data": {
      "application/vnd.jupyter.widget-view+json": {
       "model_id": "bce5904733f5421a85f68418e329ac13",
       "version_major": 2,
       "version_minor": 0
      },
      "text/plain": [
       "  0%|          | 0/85 [00:00<?, ?it/s]"
      ]
     },
     "metadata": {},
     "output_type": "display_data"
    },
    {
     "data": {
      "application/vnd.jupyter.widget-view+json": {
       "model_id": "0d128db995aa466bab65a179073f524c",
       "version_major": 2,
       "version_minor": 0
      },
      "text/plain": [
       "  0%|          | 0/85 [00:00<?, ?it/s]"
      ]
     },
     "metadata": {},
     "output_type": "display_data"
    },
    {
     "data": {
      "application/vnd.jupyter.widget-view+json": {
       "model_id": "49c9cc63d4254e9087969af96ec5435a",
       "version_major": 2,
       "version_minor": 0
      },
      "text/plain": [
       "  0%|          | 0/1 [00:00<?, ?it/s]"
      ]
     },
     "metadata": {},
     "output_type": "display_data"
    },
    {
     "data": {
      "application/vnd.jupyter.widget-view+json": {
       "model_id": "f5852f1fc5d94bbe862676759e3ef9fc",
       "version_major": 2,
       "version_minor": 0
      },
      "text/plain": [
       "  0%|          | 0/769 [00:00<?, ?it/s]"
      ]
     },
     "metadata": {},
     "output_type": "display_data"
    },
    {
     "data": {
      "application/vnd.jupyter.widget-view+json": {
       "model_id": "db972bc82dc04a63880395d8d3cd89e0",
       "version_major": 2,
       "version_minor": 0
      },
      "text/plain": [
       "  0%|          | 0/85 [00:00<?, ?it/s]"
      ]
     },
     "metadata": {},
     "output_type": "display_data"
    },
    {
     "data": {
      "application/vnd.jupyter.widget-view+json": {
       "model_id": "0f2ab9601dd047b7be6017ef33ba15c7",
       "version_major": 2,
       "version_minor": 0
      },
      "text/plain": [
       "  0%|          | 0/85 [00:00<?, ?it/s]"
      ]
     },
     "metadata": {},
     "output_type": "display_data"
    },
    {
     "data": {
      "application/vnd.jupyter.widget-view+json": {
       "model_id": "4c44a839281248c1b334a5757d4a7fd1",
       "version_major": 2,
       "version_minor": 0
      },
      "text/plain": [
       "  0%|          | 0/1 [00:00<?, ?it/s]"
      ]
     },
     "metadata": {},
     "output_type": "display_data"
    },
    {
     "data": {
      "application/vnd.jupyter.widget-view+json": {
       "model_id": "7827568cd76f44b9869f365dbbaf6631",
       "version_major": 2,
       "version_minor": 0
      },
      "text/plain": [
       "  0%|          | 0/769 [00:00<?, ?it/s]"
      ]
     },
     "metadata": {},
     "output_type": "display_data"
    },
    {
     "data": {
      "application/vnd.jupyter.widget-view+json": {
       "model_id": "e9588ee0cd174c9591c37b33cd9a3750",
       "version_major": 2,
       "version_minor": 0
      },
      "text/plain": [
       "  0%|          | 0/85 [00:00<?, ?it/s]"
      ]
     },
     "metadata": {},
     "output_type": "display_data"
    },
    {
     "data": {
      "application/vnd.jupyter.widget-view+json": {
       "model_id": "1093cf40f4604d6180b59ba4a04450ec",
       "version_major": 2,
       "version_minor": 0
      },
      "text/plain": [
       "  0%|          | 0/85 [00:00<?, ?it/s]"
      ]
     },
     "metadata": {},
     "output_type": "display_data"
    },
    {
     "data": {
      "application/vnd.jupyter.widget-view+json": {
       "model_id": "cd13117aa55246e19a724e69b37b87c3",
       "version_major": 2,
       "version_minor": 0
      },
      "text/plain": [
       "  0%|          | 0/1 [00:00<?, ?it/s]"
      ]
     },
     "metadata": {},
     "output_type": "display_data"
    },
    {
     "data": {
      "application/vnd.jupyter.widget-view+json": {
       "model_id": "f859c5453222422d8afe91ce872e0532",
       "version_major": 2,
       "version_minor": 0
      },
      "text/plain": [
       "  0%|          | 0/769 [00:00<?, ?it/s]"
      ]
     },
     "metadata": {},
     "output_type": "display_data"
    },
    {
     "data": {
      "application/vnd.jupyter.widget-view+json": {
       "model_id": "6d5968b09b0c4f74bfa84460499155c5",
       "version_major": 2,
       "version_minor": 0
      },
      "text/plain": [
       "  0%|          | 0/85 [00:00<?, ?it/s]"
      ]
     },
     "metadata": {},
     "output_type": "display_data"
    },
    {
     "data": {
      "application/vnd.jupyter.widget-view+json": {
       "model_id": "223552cda5b744b9a61fbc0669514bbf",
       "version_major": 2,
       "version_minor": 0
      },
      "text/plain": [
       "  0%|          | 0/85 [00:00<?, ?it/s]"
      ]
     },
     "metadata": {},
     "output_type": "display_data"
    },
    {
     "data": {
      "application/vnd.jupyter.widget-view+json": {
       "model_id": "d2ae02414cbc4819b778ee2730d2f23c",
       "version_major": 2,
       "version_minor": 0
      },
      "text/plain": [
       "  0%|          | 0/1 [00:00<?, ?it/s]"
      ]
     },
     "metadata": {},
     "output_type": "display_data"
    },
    {
     "data": {
      "application/vnd.jupyter.widget-view+json": {
       "model_id": "9d443380451b4b009bf60cd516d5c6ef",
       "version_major": 2,
       "version_minor": 0
      },
      "text/plain": [
       "  0%|          | 0/769 [00:00<?, ?it/s]"
      ]
     },
     "metadata": {},
     "output_type": "display_data"
    },
    {
     "data": {
      "application/vnd.jupyter.widget-view+json": {
       "model_id": "f4c0dd79b2ea4d888d43e7ff5be18639",
       "version_major": 2,
       "version_minor": 0
      },
      "text/plain": [
       "  0%|          | 0/85 [00:00<?, ?it/s]"
      ]
     },
     "metadata": {},
     "output_type": "display_data"
    },
    {
     "data": {
      "application/vnd.jupyter.widget-view+json": {
       "model_id": "8fa1c3ca5aa04546ad480c8a1ffb04fe",
       "version_major": 2,
       "version_minor": 0
      },
      "text/plain": [
       "  0%|          | 0/85 [00:00<?, ?it/s]"
      ]
     },
     "metadata": {},
     "output_type": "display_data"
    },
    {
     "data": {
      "application/vnd.jupyter.widget-view+json": {
       "model_id": "1506892f9a4742a9a55dc65a243e5749",
       "version_major": 2,
       "version_minor": 0
      },
      "text/plain": [
       "  0%|          | 0/1 [00:00<?, ?it/s]"
      ]
     },
     "metadata": {},
     "output_type": "display_data"
    },
    {
     "data": {
      "application/vnd.jupyter.widget-view+json": {
       "model_id": "badd25bc1b8344979a87022c348cb923",
       "version_major": 2,
       "version_minor": 0
      },
      "text/plain": [
       "  0%|          | 0/769 [00:00<?, ?it/s]"
      ]
     },
     "metadata": {},
     "output_type": "display_data"
    },
    {
     "data": {
      "application/vnd.jupyter.widget-view+json": {
       "model_id": "351be74d8a634300a9a34587be34c261",
       "version_major": 2,
       "version_minor": 0
      },
      "text/plain": [
       "  0%|          | 0/85 [00:00<?, ?it/s]"
      ]
     },
     "metadata": {},
     "output_type": "display_data"
    },
    {
     "data": {
      "application/vnd.jupyter.widget-view+json": {
       "model_id": "5b51bc40fb9e4af9854dd4893994027c",
       "version_major": 2,
       "version_minor": 0
      },
      "text/plain": [
       "  0%|          | 0/85 [00:00<?, ?it/s]"
      ]
     },
     "metadata": {},
     "output_type": "display_data"
    },
    {
     "data": {
      "application/vnd.jupyter.widget-view+json": {
       "model_id": "d02237e994554f2498bec02e9846ad3d",
       "version_major": 2,
       "version_minor": 0
      },
      "text/plain": [
       "  0%|          | 0/1 [00:00<?, ?it/s]"
      ]
     },
     "metadata": {},
     "output_type": "display_data"
    },
    {
     "data": {
      "application/vnd.jupyter.widget-view+json": {
       "model_id": "1437fe7ce3f94d45b943112835e060cd",
       "version_major": 2,
       "version_minor": 0
      },
      "text/plain": [
       "  0%|          | 0/769 [00:00<?, ?it/s]"
      ]
     },
     "metadata": {},
     "output_type": "display_data"
    },
    {
     "data": {
      "application/vnd.jupyter.widget-view+json": {
       "model_id": "d1909f6dfd4d40f3bb661f880569fbc5",
       "version_major": 2,
       "version_minor": 0
      },
      "text/plain": [
       "  0%|          | 0/85 [00:00<?, ?it/s]"
      ]
     },
     "metadata": {},
     "output_type": "display_data"
    },
    {
     "data": {
      "application/vnd.jupyter.widget-view+json": {
       "model_id": "bee2a65c04844111ab1e0fa70bc6029e",
       "version_major": 2,
       "version_minor": 0
      },
      "text/plain": [
       "  0%|          | 0/85 [00:00<?, ?it/s]"
      ]
     },
     "metadata": {},
     "output_type": "display_data"
    },
    {
     "data": {
      "application/vnd.jupyter.widget-view+json": {
       "model_id": "809d095b72cd47bba217f70a194a7b40",
       "version_major": 2,
       "version_minor": 0
      },
      "text/plain": [
       "  0%|          | 0/1 [00:00<?, ?it/s]"
      ]
     },
     "metadata": {},
     "output_type": "display_data"
    },
    {
     "data": {
      "application/vnd.jupyter.widget-view+json": {
       "model_id": "91e2e3f0a2ea48489fe01a35d790933b",
       "version_major": 2,
       "version_minor": 0
      },
      "text/plain": [
       "  0%|          | 0/769 [00:00<?, ?it/s]"
      ]
     },
     "metadata": {},
     "output_type": "display_data"
    },
    {
     "data": {
      "application/vnd.jupyter.widget-view+json": {
       "model_id": "2a2ca923994a4065997429a297ce4959",
       "version_major": 2,
       "version_minor": 0
      },
      "text/plain": [
       "  0%|          | 0/85 [00:00<?, ?it/s]"
      ]
     },
     "metadata": {},
     "output_type": "display_data"
    },
    {
     "data": {
      "application/vnd.jupyter.widget-view+json": {
       "model_id": "6c8904f5e4a94a9c972177901d00e5af",
       "version_major": 2,
       "version_minor": 0
      },
      "text/plain": [
       "  0%|          | 0/85 [00:00<?, ?it/s]"
      ]
     },
     "metadata": {},
     "output_type": "display_data"
    },
    {
     "data": {
      "application/vnd.jupyter.widget-view+json": {
       "model_id": "7da7ada335154b3dbf51985c85ec4d1a",
       "version_major": 2,
       "version_minor": 0
      },
      "text/plain": [
       "  0%|          | 0/1 [00:00<?, ?it/s]"
      ]
     },
     "metadata": {},
     "output_type": "display_data"
    },
    {
     "data": {
      "application/vnd.jupyter.widget-view+json": {
       "model_id": "91f808d82b7d4065b6837f919ae542c0",
       "version_major": 2,
       "version_minor": 0
      },
      "text/plain": [
       "  0%|          | 0/769 [00:00<?, ?it/s]"
      ]
     },
     "metadata": {},
     "output_type": "display_data"
    },
    {
     "data": {
      "application/vnd.jupyter.widget-view+json": {
       "model_id": "03f6b4cb30304c46b3ee4b4f66961daa",
       "version_major": 2,
       "version_minor": 0
      },
      "text/plain": [
       "  0%|          | 0/85 [00:00<?, ?it/s]"
      ]
     },
     "metadata": {},
     "output_type": "display_data"
    },
    {
     "data": {
      "application/vnd.jupyter.widget-view+json": {
       "model_id": "68c1382b978f4c42ab9369c5d281f3ac",
       "version_major": 2,
       "version_minor": 0
      },
      "text/plain": [
       "  0%|          | 0/85 [00:00<?, ?it/s]"
      ]
     },
     "metadata": {},
     "output_type": "display_data"
    },
    {
     "data": {
      "application/vnd.jupyter.widget-view+json": {
       "model_id": "5bebb2ffe14e4441b02d1ccf4296e3d5",
       "version_major": 2,
       "version_minor": 0
      },
      "text/plain": [
       "  0%|          | 0/1 [00:00<?, ?it/s]"
      ]
     },
     "metadata": {},
     "output_type": "display_data"
    },
    {
     "data": {
      "application/vnd.jupyter.widget-view+json": {
       "model_id": "753568710672472693eb38b230e2cb64",
       "version_major": 2,
       "version_minor": 0
      },
      "text/plain": [
       "  0%|          | 0/769 [00:00<?, ?it/s]"
      ]
     },
     "metadata": {},
     "output_type": "display_data"
    }
   ],
   "source": [
    "_dir = os.path.join(LOG_PATH, get_date())\n",
    "print(f'run is at {_dir}')\n",
    "logger = SummaryWriter(_dir)\n",
    "n_epochs = 50\n",
    "t = tqdm(range(n_epochs))\n",
    "for epoch in t:\n",
    "    t.set_description(f'epoch {epoch}')\n",
    "    train(logger, epoch)\n",
    "    validate(logger, epoch)\n",
    "    \n",
    "    "
   ]
  },
  {
   "cell_type": "code",
   "execution_count": null,
   "metadata": {},
   "outputs": [],
   "source": []
  }
 ],
 "metadata": {
  "kernelspec": {
   "display_name": "pytorch",
   "language": "python",
   "name": "python3"
  },
  "language_info": {
   "codemirror_mode": {
    "name": "ipython",
    "version": 3
   },
   "file_extension": ".py",
   "mimetype": "text/x-python",
   "name": "python",
   "nbconvert_exporter": "python",
   "pygments_lexer": "ipython3",
   "version": "3.1.0"
  }
 },
 "nbformat": 4,
 "nbformat_minor": 2
}
