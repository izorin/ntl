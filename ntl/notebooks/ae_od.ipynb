{
 "cells": [
  {
   "cell_type": "code",
   "execution_count": 2,
   "metadata": {},
   "outputs": [],
   "source": [
    "%load_ext autoreload\n",
    "%autoreload 2\n",
    "\n",
    "# LOCAL\n",
    "# PROJECT_PATH = '/Users/ivan_zorin/Documents/DEV/code/ntl/'\n",
    "# DATA_PATH = '/Users/ivan_zorin/Documents/DEV/data/sgcc/data.csv'\n",
    "# LOG_DIR = '/Users/ivan_zorin/Documents/DEV/runs/debug/trainer'\n",
    "\n",
    "# ZHORES\n",
    "PROJECT_PATH = '/trinity/home/ivan.zorin/dev/code/ntl/'\n",
    "DATA_PATH = '/trinity/home/ivan.zorin/dev/data/sgcc/data.csv'\n",
    "LOG_DIR = '/trinity/home/ivan.zorin/dev/logs/debug/one-batch/'"
   ]
  },
  {
   "cell_type": "code",
   "execution_count": 3,
   "metadata": {},
   "outputs": [],
   "source": [
    "import numpy as np \n",
    "from numpy import ndarray\n",
    "import pandas as pd\n",
    "import matplotlib.pyplot as plt\n",
    "import sklearn as sk \n",
    "from sklearn.preprocessing import StandardScaler, MinMaxScaler, MaxAbsScaler, RobustScaler, robust_scale\n",
    "from sktime.transformations.series.impute import Imputer\n",
    "\n",
    "from functools import partial\n",
    "from types import SimpleNamespace\n",
    "import os\n",
    "from tqdm.auto import tqdm\n",
    "\n",
    "\n",
    "import torch\n",
    "from torch import nn\n",
    "import torch.nn.functional as F\n",
    "from torch.utils.data import DataLoader\n",
    "from torch.utils.tensorboard import SummaryWriter\n",
    "\n",
    "import sys\n",
    "sys.path.append(PROJECT_PATH)\n",
    "from ntl.data import SGCCDataset, data_train_test_split\n",
    "from ntl.data import FillNA, Scale, Reshape, ToTensor, Cutout, Diff\n",
    "from ntl.models import AE2dCNN\n",
    "from ntl.trainer import ArgsTrainer\n",
    "from ntl.utils import fix_seed, get_date"
   ]
  },
  {
   "cell_type": "code",
   "execution_count": 4,
   "metadata": {},
   "outputs": [
    {
     "name": "stdout",
     "output_type": "stream",
     "text": [
      "Random seed set as 42\n"
     ]
    }
   ],
   "source": [
    "fix_seed(42)\n",
    "\n",
    "transforms = [FillNA('drift'), \n",
    "            Cutout(256), \n",
    "            Scale('minmax'), \n",
    "            Reshape((16, 16)),\n",
    "            lambda x: x[None],\n",
    "            ToTensor()\n",
    "]\n",
    "normal_data = SGCCDataset(DATA_PATH, label=0, nan_ratio=0.75, transforms=transforms, year=2016)\n",
    "anomal_data = SGCCDataset(DATA_PATH, label=1, nan_ratio=1.0, transforms=transforms, year=2016)\n",
    "\n",
    "train, test = data_train_test_split(normal_data, anomal_data)\n",
    "\n",
    "train_loader = DataLoader(train, batch_size=256, drop_last=False, shuffle=True)\n",
    "test_loader = DataLoader(test, batch_size=256, shuffle=False)\n"
   ]
  },
  {
   "cell_type": "code",
   "execution_count": 15,
   "metadata": {},
   "outputs": [],
   "source": [
    "def plot_x_x_hat():\n",
    "    idx = np.random.randint(len(train_loader.dataset))\n",
    "    label, x, _ = train_loader.dataset[idx]\n",
    "        \n",
    "    \n",
    "    \n",
    "# plot_x_x_hat()"
   ]
  },
  {
   "cell_type": "code",
   "execution_count": 17,
   "metadata": {},
   "outputs": [],
   "source": [
    "idx = np.random.randint(len(train_loader.dataset))\n",
    "label, x, _ = train_loader.dataset[idx]"
   ]
  },
  {
   "cell_type": "code",
   "execution_count": null,
   "metadata": {},
   "outputs": [],
   "source": []
  },
  {
   "cell_type": "code",
   "execution_count": 16,
   "metadata": {},
   "outputs": [
    {
     "data": {
      "text/plain": [
       "(0,\n",
       " tensor([[[3.8368e-01, 2.8226e-01, 1.8744e-01, 2.3167e-01, 2.6857e-01,\n",
       "           2.5122e-01, 2.7199e-01, 1.9062e-01, 2.5538e-01, 2.5244e-01,\n",
       "           2.9668e-01, 2.2874e-01, 3.6364e-01, 2.5489e-01, 1.9624e-01,\n",
       "           2.5342e-01],\n",
       "          [3.3944e-01, 2.5953e-01, 2.6320e-01, 2.6588e-01, 2.9668e-01,\n",
       "           3.7121e-01, 3.1525e-01, 2.5073e-01, 3.6657e-01, 3.8587e-01,\n",
       "           4.3744e-01, 2.2923e-01, 3.6535e-01, 2.1188e-01, 2.1114e-01,\n",
       "           2.2923e-01],\n",
       "          [2.6295e-01, 2.2067e-01, 2.0381e-01, 1.3759e-01, 1.3368e-01,\n",
       "           1.4296e-01, 1.4052e-01, 2.8030e-01, 2.0723e-01, 2.7542e-01,\n",
       "           2.0308e-01, 2.6760e-01, 2.6466e-01, 2.9008e-01, 2.2092e-01,\n",
       "           2.2898e-01],\n",
       "          [2.1530e-01, 2.9497e-01, 2.7151e-01, 1.7107e-01, 2.0772e-01,\n",
       "           1.4272e-01, 0.0000e+00, 0.0000e+00, 0.0000e+00, 0.0000e+00,\n",
       "           0.0000e+00, 0.0000e+00, 0.0000e+00, 0.0000e+00, 0.0000e+00,\n",
       "           0.0000e+00],\n",
       "          [0.0000e+00, 0.0000e+00, 0.0000e+00, 0.0000e+00, 0.0000e+00,\n",
       "           0.0000e+00, 0.0000e+00, 0.0000e+00, 0.0000e+00, 0.0000e+00,\n",
       "           0.0000e+00, 0.0000e+00, 0.0000e+00, 0.0000e+00, 0.0000e+00,\n",
       "           0.0000e+00],\n",
       "          [0.0000e+00, 0.0000e+00, 0.0000e+00, 0.0000e+00, 0.0000e+00,\n",
       "           0.0000e+00, 0.0000e+00, 0.0000e+00, 0.0000e+00, 0.0000e+00,\n",
       "           0.0000e+00, 0.0000e+00, 0.0000e+00, 0.0000e+00, 0.0000e+00,\n",
       "           0.0000e+00],\n",
       "          [0.0000e+00, 0.0000e+00, 0.0000e+00, 0.0000e+00, 0.0000e+00,\n",
       "           0.0000e+00, 0.0000e+00, 0.0000e+00, 0.0000e+00, 0.0000e+00,\n",
       "           0.0000e+00, 0.0000e+00, 0.0000e+00, 0.0000e+00, 0.0000e+00,\n",
       "           0.0000e+00],\n",
       "          [2.4438e-04, 0.0000e+00, 0.0000e+00, 0.0000e+00, 0.0000e+00,\n",
       "           0.0000e+00, 0.0000e+00, 0.0000e+00, 0.0000e+00, 4.1789e-02,\n",
       "           0.0000e+00, 0.0000e+00, 0.0000e+00, 0.0000e+00, 0.0000e+00,\n",
       "           0.0000e+00],\n",
       "          [0.0000e+00, 9.7752e-04, 5.3763e-03, 1.0508e-02, 0.0000e+00,\n",
       "           0.0000e+00, 0.0000e+00, 2.4438e-04, 0.0000e+00, 0.0000e+00,\n",
       "           0.0000e+00, 0.0000e+00, 0.0000e+00, 0.0000e+00, 0.0000e+00,\n",
       "           4.8876e-04],\n",
       "          [0.0000e+00, 1.7375e-01, 3.1769e-03, 0.0000e+00, 0.0000e+00,\n",
       "           1.8084e-02, 0.0000e+00, 0.0000e+00, 0.0000e+00, 3.7879e-02,\n",
       "           0.0000e+00, 4.9365e-02, 1.5640e-02, 2.6149e-02, 0.0000e+00,\n",
       "           2.1994e-03],\n",
       "          [0.0000e+00, 0.0000e+00, 2.0039e-02, 0.0000e+00, 0.0000e+00,\n",
       "           0.0000e+00, 2.4438e-04, 4.8876e-03, 2.9326e-03, 0.0000e+00,\n",
       "           0.0000e+00, 9.7752e-04, 7.3314e-04, 7.3314e-03, 3.8612e-02,\n",
       "           3.3724e-02],\n",
       "          [4.4721e-02, 2.4682e-02, 2.4438e-02, 1.0264e-02, 9.7752e-03,\n",
       "           1.0508e-02, 1.4907e-02, 3.3724e-02, 1.4418e-02, 0.0000e+00,\n",
       "           3.3969e-02, 0.0000e+00, 1.9795e-02, 6.6227e-02, 1.1241e-02,\n",
       "           4.8876e-04],\n",
       "          [1.2219e-03, 4.1056e-02, 6.5982e-03, 9.7752e-04, 7.3314e-04,\n",
       "           4.8876e-04, 4.8876e-04, 9.7752e-04, 2.4438e-04, 0.0000e+00,\n",
       "           3.0303e-02, 1.6544e-01, 1.7986e-01, 2.9643e-01, 3.0816e-01,\n",
       "           2.0259e-01],\n",
       "          [2.3974e-01, 1.1046e-01, 1.2683e-01, 2.1896e-01, 2.2385e-01,\n",
       "           2.9203e-01, 3.4213e-01, 3.1036e-01, 4.6970e-01, 2.2972e-01,\n",
       "           4.7703e-01, 4.1325e-01, 5.2297e-01, 4.1129e-01, 4.8876e-01,\n",
       "           3.4922e-01],\n",
       "          [1.0000e+00, 3.9394e-01, 2.1970e-01, 1.7180e-01, 2.2458e-01,\n",
       "           2.4242e-01, 3.3675e-01, 3.5166e-01, 2.3289e-01, 2.4585e-01,\n",
       "           2.4878e-01, 2.8666e-01, 2.6882e-01, 3.2405e-01, 2.4487e-01,\n",
       "           1.5591e-01],\n",
       "          [1.3514e-01, 2.4047e-01, 4.5846e-01, 5.8016e-01, 2.7957e-01,\n",
       "           7.2947e-01, 7.7664e-01, 5.9702e-01, 4.7141e-01, 4.2742e-01,\n",
       "           4.9071e-01, 6.3636e-01, 6.2439e-01, 5.0953e-01, 2.2776e-01,\n",
       "           1.8597e-01]]]),\n",
       " '6329760D630D2358C45AFF75747613F3')"
      ]
     },
     "execution_count": 16,
     "metadata": {},
     "output_type": "execute_result"
    }
   ],
   "source": [
    "sample"
   ]
  },
  {
   "cell_type": "code",
   "execution_count": 5,
   "metadata": {},
   "outputs": [],
   "source": [
    "model = AE2dCNN()"
   ]
  },
  {
   "cell_type": "code",
   "execution_count": 6,
   "metadata": {},
   "outputs": [
    {
     "data": {
      "text/plain": [
       "AE2dCNN(\n",
       "  (encoder): Sequential(\n",
       "    (0): Conv2d(1, 4, kernel_size=(3, 3), stride=(1, 1))\n",
       "    (1): ReLU()\n",
       "    (2): Conv2d(4, 16, kernel_size=(3, 3), stride=(1, 1))\n",
       "    (3): ReLU()\n",
       "    (4): Conv2d(16, 32, kernel_size=(3, 3), stride=(1, 1))\n",
       "    (5): ReLU()\n",
       "    (6): Conv2d(32, 64, kernel_size=(3, 3), stride=(1, 1))\n",
       "    (7): ReLU()\n",
       "  )\n",
       "  (decoder): Sequential(\n",
       "    (0): ConvTranspose2d(64, 32, kernel_size=(3, 3), stride=(1, 1))\n",
       "    (1): ReLU()\n",
       "    (2): ConvTranspose2d(32, 16, kernel_size=(3, 3), stride=(1, 1))\n",
       "    (3): ReLU()\n",
       "    (4): ConvTranspose2d(16, 4, kernel_size=(3, 3), stride=(1, 1))\n",
       "    (5): ReLU()\n",
       "    (6): ConvTranspose2d(4, 1, kernel_size=(3, 3), stride=(1, 1))\n",
       "    (7): ReLU()\n",
       "  )\n",
       ")"
      ]
     },
     "execution_count": 6,
     "metadata": {},
     "output_type": "execute_result"
    }
   ],
   "source": [
    "model"
   ]
  },
  {
   "cell_type": "code",
   "execution_count": 15,
   "metadata": {},
   "outputs": [
    {
     "data": {
      "text/plain": [
       "47473"
      ]
     },
     "execution_count": 15,
     "metadata": {},
     "output_type": "execute_result"
    }
   ],
   "source": [
    "total_params = sum(p.numel() for p in model.parameters() if p.requires_grad)\n",
    "total_params"
   ]
  },
  {
   "cell_type": "markdown",
   "metadata": {},
   "source": [
    "### one batch over-fit"
   ]
  },
  {
   "cell_type": "code",
   "execution_count": null,
   "metadata": {},
   "outputs": [],
   "source": [
    "batch_size = 64\n",
    "one_batch_idxs = np.random.randint(0, len(normal_data), batch_size)\n",
    "loader = DataLoader(torch.utils.data.Subset(normal_data, one_batch_idxs), batch_size=batch_size)"
   ]
  },
  {
   "cell_type": "code",
   "execution_count": 4,
   "metadata": {},
   "outputs": [
    {
     "ename": "NameError",
     "evalue": "name 'loader' is not defined",
     "output_type": "error",
     "traceback": [
      "\u001b[0;31m---------------------------------------------------------------------------\u001b[0m",
      "\u001b[0;31mNameError\u001b[0m                                 Traceback (most recent call last)",
      "\u001b[1;32m/trinity/home/ivan.zorin/dev/code/ntl/ntl/notebooks/ae_od.ipynb Cell 6\u001b[0m line \u001b[0;36m1\n\u001b[1;32m      <a href='vscode-notebook-cell://ssh-remote%2Bzhores.compute/trinity/home/ivan.zorin/dev/code/ntl/ntl/notebooks/ae_od.ipynb#W5sdnNjb2RlLXJlbW90ZQ%3D%3D?line=4'>5</a>\u001b[0m logger \u001b[39m=\u001b[39m SummaryWriter(log_dir\u001b[39m=\u001b[39mos\u001b[39m.\u001b[39mpath\u001b[39m.\u001b[39mjoin(LOG_DIR, get_date())) \n\u001b[1;32m      <a href='vscode-notebook-cell://ssh-remote%2Bzhores.compute/trinity/home/ivan.zorin/dev/code/ntl/ntl/notebooks/ae_od.ipynb#W5sdnNjb2RlLXJlbW90ZQ%3D%3D?line=6'>7</a>\u001b[0m config \u001b[39m=\u001b[39m SimpleNamespace(\u001b[39m*\u001b[39m\u001b[39m*\u001b[39m{\n\u001b[1;32m      <a href='vscode-notebook-cell://ssh-remote%2Bzhores.compute/trinity/home/ivan.zorin/dev/code/ntl/ntl/notebooks/ae_od.ipynb#W5sdnNjb2RlLXJlbW90ZQ%3D%3D?line=7'>8</a>\u001b[0m     \u001b[39m'\u001b[39m\u001b[39mdebug\u001b[39m\u001b[39m'\u001b[39m: \u001b[39mTrue\u001b[39;00m,\n\u001b[1;32m      <a href='vscode-notebook-cell://ssh-remote%2Bzhores.compute/trinity/home/ivan.zorin/dev/code/ntl/ntl/notebooks/ae_od.ipynb#W5sdnNjb2RlLXJlbW90ZQ%3D%3D?line=8'>9</a>\u001b[0m     \u001b[39m'\u001b[39m\u001b[39mn_debug_batches\u001b[39m\u001b[39m'\u001b[39m: \u001b[39m1\u001b[39m,\n\u001b[1;32m     <a href='vscode-notebook-cell://ssh-remote%2Bzhores.compute/trinity/home/ivan.zorin/dev/code/ntl/ntl/notebooks/ae_od.ipynb#W5sdnNjb2RlLXJlbW90ZQ%3D%3D?line=9'>10</a>\u001b[0m     \u001b[39m'\u001b[39m\u001b[39mlog_step\u001b[39m\u001b[39m'\u001b[39m: \u001b[39m5\u001b[39m,\n\u001b[1;32m     <a href='vscode-notebook-cell://ssh-remote%2Bzhores.compute/trinity/home/ivan.zorin/dev/code/ntl/ntl/notebooks/ae_od.ipynb#W5sdnNjb2RlLXJlbW90ZQ%3D%3D?line=10'>11</a>\u001b[0m     \u001b[39m'\u001b[39m\u001b[39mn_epochs\u001b[39m\u001b[39m'\u001b[39m: \u001b[39m100\u001b[39m\n\u001b[1;32m     <a href='vscode-notebook-cell://ssh-remote%2Bzhores.compute/trinity/home/ivan.zorin/dev/code/ntl/ntl/notebooks/ae_od.ipynb#W5sdnNjb2RlLXJlbW90ZQ%3D%3D?line=11'>12</a>\u001b[0m })\n\u001b[1;32m     <a href='vscode-notebook-cell://ssh-remote%2Bzhores.compute/trinity/home/ivan.zorin/dev/code/ntl/ntl/notebooks/ae_od.ipynb#W5sdnNjb2RlLXJlbW90ZQ%3D%3D?line=14'>15</a>\u001b[0m trainer \u001b[39m=\u001b[39m ArgsTrainer(\n\u001b[0;32m---> <a href='vscode-notebook-cell://ssh-remote%2Bzhores.compute/trinity/home/ivan.zorin/dev/code/ntl/ntl/notebooks/ae_od.ipynb#W5sdnNjb2RlLXJlbW90ZQ%3D%3D?line=15'>16</a>\u001b[0m     train_loader\u001b[39m=\u001b[39mloader,\n\u001b[1;32m     <a href='vscode-notebook-cell://ssh-remote%2Bzhores.compute/trinity/home/ivan.zorin/dev/code/ntl/ntl/notebooks/ae_od.ipynb#W5sdnNjb2RlLXJlbW90ZQ%3D%3D?line=16'>17</a>\u001b[0m     val_loader\u001b[39m=\u001b[39mloader,\n\u001b[1;32m     <a href='vscode-notebook-cell://ssh-remote%2Bzhores.compute/trinity/home/ivan.zorin/dev/code/ntl/ntl/notebooks/ae_od.ipynb#W5sdnNjb2RlLXJlbW90ZQ%3D%3D?line=17'>18</a>\u001b[0m     model\u001b[39m=\u001b[39mmodel,\n\u001b[1;32m     <a href='vscode-notebook-cell://ssh-remote%2Bzhores.compute/trinity/home/ivan.zorin/dev/code/ntl/ntl/notebooks/ae_od.ipynb#W5sdnNjb2RlLXJlbW90ZQ%3D%3D?line=18'>19</a>\u001b[0m     loss\u001b[39m=\u001b[39mloss,\n\u001b[1;32m     <a href='vscode-notebook-cell://ssh-remote%2Bzhores.compute/trinity/home/ivan.zorin/dev/code/ntl/ntl/notebooks/ae_od.ipynb#W5sdnNjb2RlLXJlbW90ZQ%3D%3D?line=19'>20</a>\u001b[0m     optim\u001b[39m=\u001b[39moptim,\n\u001b[1;32m     <a href='vscode-notebook-cell://ssh-remote%2Bzhores.compute/trinity/home/ivan.zorin/dev/code/ntl/ntl/notebooks/ae_od.ipynb#W5sdnNjb2RlLXJlbW90ZQ%3D%3D?line=20'>21</a>\u001b[0m     scheduler\u001b[39m=\u001b[39mscheduler,\n\u001b[1;32m     <a href='vscode-notebook-cell://ssh-remote%2Bzhores.compute/trinity/home/ivan.zorin/dev/code/ntl/ntl/notebooks/ae_od.ipynb#W5sdnNjb2RlLXJlbW90ZQ%3D%3D?line=21'>22</a>\u001b[0m     config\u001b[39m=\u001b[39mconfig,\n\u001b[1;32m     <a href='vscode-notebook-cell://ssh-remote%2Bzhores.compute/trinity/home/ivan.zorin/dev/code/ntl/ntl/notebooks/ae_od.ipynb#W5sdnNjb2RlLXJlbW90ZQ%3D%3D?line=22'>23</a>\u001b[0m     logger\u001b[39m=\u001b[39mlogger\n\u001b[1;32m     <a href='vscode-notebook-cell://ssh-remote%2Bzhores.compute/trinity/home/ivan.zorin/dev/code/ntl/ntl/notebooks/ae_od.ipynb#W5sdnNjb2RlLXJlbW90ZQ%3D%3D?line=23'>24</a>\u001b[0m )\n",
      "\u001b[0;31mNameError\u001b[0m: name 'loader' is not defined"
     ]
    }
   ],
   "source": [
    "model = AE2dCNN()\n",
    "loss = nn.MSELoss(reduction='none')\n",
    "optim = torch.optim.Adam(model.parameters(), lr=0.001)\n",
    "scheduler = torch.optim.lr_scheduler.ReduceLROnPlateau(optim, factor=0.5, patience=2)\n",
    "logger = SummaryWriter(log_dir=os.path.join(LOG_DIR, get_date())) \n",
    "\n",
    "config = SimpleNamespace(**{\n",
    "    'debug': True,\n",
    "    'n_debug_batches': 1,\n",
    "    'log_step': 5,\n",
    "    'n_epochs': 100\n",
    "})\n",
    "\n",
    "\n",
    "trainer = ArgsTrainer(\n",
    "    train_loader=loader,\n",
    "    val_loader=loader,\n",
    "    model=model,\n",
    "    loss=loss,\n",
    "    optim=optim,\n",
    "    scheduler=scheduler,\n",
    "    config=config,\n",
    "    logger=logger\n",
    ")\n"
   ]
  },
  {
   "cell_type": "code",
   "execution_count": null,
   "metadata": {},
   "outputs": [],
   "source": [
    "losses = []\n",
    "for epoch in tqdm(range(100)):\n",
    "    train_loss = trainer.train_step(epoch)\n",
    "    trainer.logger.add_scalars('loss', {'train': train_loss}, epoch)\n",
    "    losses.append(train_loss.item())"
   ]
  },
  {
   "cell_type": "code",
   "execution_count": null,
   "metadata": {},
   "outputs": [],
   "source": [
    "plt.figure()\n",
    "plt.plot(losses)\n",
    "plt.show()"
   ]
  },
  {
   "cell_type": "code",
   "execution_count": null,
   "metadata": {},
   "outputs": [],
   "source": [
    "for sample in train:\n",
    "    x = sample[1]\n",
    "    emb, x_hat = trainer.model(x.to(trainer.device))\n",
    "\n",
    "    x = x.flatten().numpy().squeeze()\n",
    "    x_hat = x_hat.detach().flatten().cpu().numpy().squeeze()\n",
    "    plt.figure()\n",
    "    plt.plot(x, 'b--')\n",
    "    plt.plot(x_hat, 'r')\n",
    "    plt.show()"
   ]
  },
  {
   "cell_type": "code",
   "execution_count": null,
   "metadata": {},
   "outputs": [],
   "source": [
    "for i, sample in enumerate(train):\n",
    "    x = sample[1].flatten().numpy().squeeze()\n",
    "    plt.figure()\n",
    "    plt.plot(np.diff(x, n=1))\n",
    "    plt.title(i)\n",
    "    plt.show()\n",
    "    "
   ]
  },
  {
   "cell_type": "markdown",
   "metadata": {},
   "source": [
    "#### check average values of normalized inputs"
   ]
  },
  {
   "cell_type": "code",
   "execution_count": null,
   "metadata": {},
   "outputs": [],
   "source": [
    "transforms = [FillNA('drift'), \n",
    "            Cutout(256), \n",
    "            Scale('minmax'), \n",
    "            # Reshape((16, 16)),\n",
    "            # lambda x: x[None],\n",
    "            # ToTensor()\n",
    "]\n",
    "normal_data = SGCCDataset(DATA_PATH, label=0, nan_ratio=0.75, transforms=transforms, year=2016)\n",
    "anomal_data = SGCCDataset(DATA_PATH, label=1, nan_ratio=1.0, transforms=transforms, year=2016)\n",
    "\n",
    "train, test = data_train_test_split(normal_data, anomal_data)"
   ]
  },
  {
   "cell_type": "code",
   "execution_count": null,
   "metadata": {},
   "outputs": [],
   "source": [
    "max_values, min_values, mean_values, median_values = [], [], [], []\n",
    "for sample in tqdm(train):\n",
    "    x = sample[1]\n",
    "    max_values.append(x.max())\n",
    "    min_values.append(x.min())\n",
    "    mean_values.append(x.mean())\n",
    "    median_values.append(np.median(x))\n",
    "    "
   ]
  },
  {
   "cell_type": "code",
   "execution_count": null,
   "metadata": {},
   "outputs": [],
   "source": [
    "def plot_hist(data, title=''):\n",
    "    plt.figure()\n",
    "    plt.hist(data, density=True)\n",
    "    plt.title(title)\n",
    "    plt.show()\n",
    "    \n"
   ]
  },
  {
   "cell_type": "code",
   "execution_count": null,
   "metadata": {},
   "outputs": [],
   "source": [
    "# plot_hist(max_values, 'max_values')\n",
    "# plot_hist(min_values, 'min_values')\n",
    "plot_hist(mean_values, 'mean_values')\n",
    "# plot_hist(median_values, 'median_values')\n"
   ]
  },
  {
   "cell_type": "code",
   "execution_count": null,
   "metadata": {},
   "outputs": [],
   "source": [
    "idx = 10\n",
    "sample = train[idx][1]\n",
    "print(sample.mean())\n",
    "\n",
    "plt.figure()\n",
    "plt.plot(sample)\n",
    "plt.show()\n"
   ]
  },
  {
   "cell_type": "markdown",
   "metadata": {},
   "source": [
    "### Transformations "
   ]
  },
  {
   "cell_type": "code",
   "execution_count": null,
   "metadata": {},
   "outputs": [],
   "source": [
    "transforms = [\n",
    "    FillNA('drift'), \n",
    "    # Cutout(256), \n",
    "    # Scale('minmax'), \n",
    "    # Reshape((16, 16)),\n",
    "    # lambda x: x[None],\n",
    "    # ToTensor()\n",
    "]\n",
    "data = SGCCDataset(DATA_PATH, label=0, nan_ratio=0.75, transforms=transforms, year=2016)"
   ]
  },
  {
   "cell_type": "code",
   "execution_count": null,
   "metadata": {},
   "outputs": [],
   "source": [
    "diff_tr = Diff(1)\n",
    "scale_tr = Scale('minmax')"
   ]
  },
  {
   "cell_type": "code",
   "execution_count": null,
   "metadata": {},
   "outputs": [],
   "source": [
    "idx = np.random.randint(0, len(data))\n",
    "x = data[idx][1]"
   ]
  },
  {
   "cell_type": "code",
   "execution_count": null,
   "metadata": {},
   "outputs": [],
   "source": [
    "x1 = diff_tr(scale_tr(x))\n",
    "x2 = scale_tr(diff_tr(x))"
   ]
  },
  {
   "cell_type": "code",
   "execution_count": null,
   "metadata": {},
   "outputs": [],
   "source": [
    "plt.figure()\n",
    "plt.plot(x1, 'b', label='x1')\n",
    "plt.plot(x2, 'r', label='x2')\n",
    "plt.show()\n"
   ]
  },
  {
   "cell_type": "markdown",
   "metadata": {},
   "source": [
    "* normalize data to 0,1 scale | check\n",
    "* fill nans | check\n",
    "* cut-out some piece | check\n",
    "* reshape into matrix (7x52, square, other?) | check\n",
    "* use this matrix as input into AE | check\n",
    "\n",
    "\n",
    "Two ways of transformation \n",
    "The first one \n",
    "1. cut-out some piece\n",
    "2. fill na\n",
    "3. scale \n",
    "4. reshape\n",
    "\n",
    "The second one \n",
    "1. fill na\n",
    "2. scale\n",
    "3. cut-out some piece\n",
    "5. reshape\n",
    "\n",
    "**#TODO**\n",
    "\n",
    "* add x and x_hat plots\n",
    "* split val_loss into two -- val_normal_loss, val_anomal_loss\n",
    "* add GMM on scores\n"
   ]
  }
 ],
 "metadata": {
  "kernelspec": {
   "display_name": "Python 3 (ipykernel)",
   "language": "python",
   "name": "python3"
  },
  "language_info": {
   "codemirror_mode": {
    "name": "ipython",
    "version": 3
   },
   "file_extension": ".py",
   "mimetype": "text/x-python",
   "name": "python",
   "nbconvert_exporter": "python",
   "pygments_lexer": "ipython3",
   "version": "3.11.3"
  },
  "orig_nbformat": 4
 },
 "nbformat": 4,
 "nbformat_minor": 2
}
