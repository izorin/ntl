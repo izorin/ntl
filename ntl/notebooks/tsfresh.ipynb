{
  "cells": [
    {
      "cell_type": "code",
      "execution_count": 1,
      "metadata": {
        "id": "JpwuNGI6YjDU"
      },
      "outputs": [],
      "source": [
        "import sys\n",
        "import os\n",
        "import numpy as np\n",
        "import pandas as pd\n",
        "from tqdm import tqdm\n",
        "import matplotlib.pyplot as plt\n",
        "import seaborn as sns\n",
        "from copy import deepcopy\n",
        "\n",
        "from sklearn.model_selection import StratifiedKFold\n",
        "from sklearn.decomposition import PCA\n",
        "from sklearn.manifold import TSNE\n",
        "\n",
        "from tsfresh import extract_features\n",
        "import tsfresh as tf\n",
        "from tsfresh.utilities.dataframe_functions import impute\n",
        "from tsfresh import feature_selection as fs\n",
        "\n",
        "from yellowbrick.features import pca,  pca_decomposition, manifold_embedding\n",
        "from yellowbrick import features as feat"
      ]
    },
    {
      "cell_type": "code",
      "execution_count": 2,
      "metadata": {},
      "outputs": [],
      "source": [
        "import sys\n",
        "sys.path.append('/Users/ivan_zorin/Documents/AIRI/code/twino/')\n",
        "\n",
        "from research_src.data import *"
      ]
    },
    {
      "cell_type": "code",
      "execution_count": 3,
      "metadata": {},
      "outputs": [],
      "source": [
        "PATH = '/Users/ivan_zorin/Documents/AIRI/data/sgcc/data.csv'\n",
        "df = get_dataset(PATH)\n",
        "\n",
        "# X, labels = get_XY_data(df)"
      ]
    },
    {
      "cell_type": "code",
      "execution_count": 4,
      "metadata": {},
      "outputs": [],
      "source": [
        "labels = df['FLAG']\n",
        "y = labels.to_numpy()\n",
        "\n",
        "data = df.drop('FLAG', axis=1).reset_index().melt(id_vars=['CONS_NO'], var_name='date', value_name='cons').fillna(0)"
      ]
    },
    {
      "cell_type": "code",
      "execution_count": 10,
      "metadata": {},
      "outputs": [
        {
          "name": "stderr",
          "output_type": "stream",
          "text": [
            "Feature Extraction: 100%|██████████| 25/25 [08:18<00:00, 19.92s/it]\n",
            "/Users/ivan_zorin/opt/miniconda3/lib/python3.9/site-packages/tsfresh/utilities/dataframe_functions.py:198: RuntimeWarning: The columns ['cons__query_similarity_count__query_None__threshold_0.0'] did not have any finite values. Filling with zeros.\n",
            "  warnings.warn(\n"
          ]
        }
      ],
      "source": [
        "features_path = '/Users/ivan_zorin/Documents/AIRI/data/sgcc/features.csv'\n",
        "\n",
        "if os.path.exists(features_path):\n",
        "    features = pd.read_csv(features_path)\n",
        "else:\n",
        "    features = extract_features(data[data.date.dt.year == 2016], column_id='CONS_NO', column_sort='date', column_value='cons')\n",
        "    impute(features)\n",
        "    features.reset_index(inplace=True)\n",
        "    features.rename({'index' : 'consumer'}, axis=1, inplace=True)\n",
        "    features = fs.selection.select_features(features.set_index('consumer'), labels, ml_task='classification')\n",
        "\n",
        "    \n",
        "    \n"
      ]
    },
    {
      "cell_type": "code",
      "execution_count": null,
      "metadata": {},
      "outputs": [],
      "source": []
    },
    {
      "cell_type": "code",
      "execution_count": null,
      "metadata": {},
      "outputs": [],
      "source": [
        "    if 'Unnamed: 0' in features.columns():\n",
        "        \n",
        "    \n",
        "    features = fs.selection.select_features(features.set_index('consumer'), labels, ml_task='classification')\n",
        "    # features.to_csv(features_path)\n",
        "\n",
        "\n",
        "# features = pd.merge(features, labels, left_on='consumer', right_on='CONS_NO')\n"
      ]
    },
    {
      "cell_type": "code",
      "execution_count": null,
      "metadata": {},
      "outputs": [],
      "source": [
        "relevance_table = fs.relevance.calculate_relevance_table(features.set_index('consumer'), labels, ml_task='classification')"
      ]
    },
    {
      "cell_type": "code",
      "execution_count": null,
      "metadata": {},
      "outputs": [],
      "source": [
        "important_features = fs.selection.select_features(features.set_index('consumer'), labels, ml_task='classification', )"
      ]
    },
    {
      "cell_type": "code",
      "execution_count": null,
      "metadata": {},
      "outputs": [],
      "source": [
        "normal_if = important_features.loc[labels[labels == 0].index]\n",
        "bad_if = important_features.loc[labels[labels == 1].index]\n"
      ]
    },
    {
      "cell_type": "code",
      "execution_count": null,
      "metadata": {},
      "outputs": [],
      "source": []
    },
    {
      "cell_type": "code",
      "execution_count": null,
      "metadata": {},
      "outputs": [],
      "source": [
        "x1 = normal_if.describe().loc['mean']\n",
        "x2 = bad_if.describe().loc['mean']\n",
        "\n",
        "plt.figure()\n",
        "\n",
        "plt.show()"
      ]
    },
    {
      "cell_type": "code",
      "execution_count": null,
      "metadata": {},
      "outputs": [],
      "source": [
        "# X = features.drop('consumer', axis=1).to_numpy()\n",
        "X = important_features.reset_index().drop('consumer', axis=1).to_numpy()\n",
        "y = labels.to_numpy()"
      ]
    },
    {
      "cell_type": "code",
      "execution_count": null,
      "metadata": {},
      "outputs": [],
      "source": [
        "def plot2d(x, y=None, title=''):\n",
        "    assert x.shape[1] == 2, 'not 2d data'\n",
        "    plt.figure()\n",
        "    sns.scatterplot(x=x[:, 0], y=x[:, 1], hue=y, alpha=0.3)\n",
        "    plt.title(title)\n",
        "    plt.show()"
      ]
    },
    {
      "cell_type": "code",
      "execution_count": null,
      "metadata": {},
      "outputs": [],
      "source": [
        "Xpca = PCA(2).fit_transform(X)\n",
        "Xtsne = TSNE(2).fit_transform(X)\n",
        "\n",
        "plot2d(Xpca, y, 'pca all')\n",
        "plot2d(Xtsne, y, 'tsne all')"
      ]
    },
    {
      "cell_type": "code",
      "execution_count": null,
      "metadata": {},
      "outputs": [],
      "source": [
        "X32 = PCA(32).fit_transform(X)\n",
        "X2 = TSNE(2).fit_transform(X32)\n",
        "\n",
        "plot2d(X2, y, 'pca(32) -> tsne ')"
      ]
    },
    {
      "cell_type": "code",
      "execution_count": null,
      "metadata": {},
      "outputs": [],
      "source": [
        "Xred = PCA(0.95).fit_transform(X)"
      ]
    },
    {
      "cell_type": "code",
      "execution_count": null,
      "metadata": {},
      "outputs": [],
      "source": [
        "Xnorm = X[y == 0, :]\n",
        "Xbad = X[y == 1, :]\n",
        "red_model = PCA(2).fit(Xnorm)\n",
        "Xnorm2d = red_model.transform(X[y == 0, :])\n",
        "Xbad2d = red_model.transform(X[y == 1, :])\n",
        "\n",
        "plt.figure()\n",
        "plt.scatter(Xnorm2d[:, 0], Xnorm2d[:, 1], c='b', marker='o', label='normal')\n",
        "plt.scatter(Xbad2d[:, 0], Xbad2d[:, 1], c='r', marker='x', label='anomal')\n",
        "plt.legend()\n",
        "plt.show()\n"
      ]
    },
    {
      "cell_type": "code",
      "execution_count": null,
      "metadata": {},
      "outputs": [],
      "source": [
        "type(red_model)"
      ]
    },
    {
      "cell_type": "code",
      "execution_count": null,
      "metadata": {},
      "outputs": [],
      "source": []
    },
    {
      "cell_type": "code",
      "execution_count": null,
      "metadata": {},
      "outputs": [],
      "source": [
        "# check consumer-outlier with considerably huge coordinate after PCA\n",
        "\n",
        "idx = np.argmax(Xpca[:, 0])\n",
        "consumer1 = labels.reset_index().iloc[idx].CONS_NO\n",
        "print(idx, consumer)\n",
        "\n",
        "idx = np.argmax(Xpca[:, 1])\n",
        "consumer2 = labels.reset_index().iloc[idx].CONS_NO\n",
        "print(idx, consumer)\n",
        "\n",
        "Xcheck = important_features.drop([consumer1, consumer2], axis=0).reset_index().drop('consumer', axis=1).to_numpy()\n",
        "Xcheck_pca = PCA(2).fit_transform(Xcheck)\n",
        "plot2d(Xcheck_pca, y[1:-1], 'check')"
      ]
    },
    {
      "cell_type": "code",
      "execution_count": null,
      "metadata": {},
      "outputs": [],
      "source": [
        "Xpca_norm = Xpca - np.mean(Xpca, axis=0)\n",
        "\n",
        "plot2d(Xpca_norm, y)"
      ]
    },
    {
      "cell_type": "code",
      "execution_count": null,
      "metadata": {},
      "outputs": [],
      "source": [
        "plt.figure()\n",
        "plt.scatter(np.log(Xnorm2d[:, 0]), np.log(Xnorm2d[:, 1]), c='b', marker='o')\n",
        "# plt.scatter(Xbad2d[:, 0], Xbad2d[:, 1], c='r', marker='x')\n",
        "plt.show()"
      ]
    },
    {
      "cell_type": "code",
      "execution_count": null,
      "metadata": {},
      "outputs": [],
      "source": [
        "plt.figure()\n",
        "plt.hist(Xnorm2d[:, 0], color='b', alpha=0.3, bins=20)\n",
        "plt.hist(Xnorm2d[:, 1], color='r', alpha=0.3, bins=20)\n",
        "plt.show()"
      ]
    },
    {
      "cell_type": "code",
      "execution_count": null,
      "metadata": {},
      "outputs": [],
      "source": []
    },
    {
      "cell_type": "code",
      "execution_count": null,
      "metadata": {},
      "outputs": [],
      "source": [
        "plt.figure()\n",
        "sns.jointplot(x=Xbad2d[:, 0], y=Xbad2d[:, 1], kind='kde')\n",
        "plt.show()"
      ]
    },
    {
      "cell_type": "code",
      "execution_count": null,
      "metadata": {},
      "outputs": [],
      "source": [
        "# x = X2[y == 1, :]\n",
        "x = Xnorm2d\n",
        "\n",
        "plt.figure()\n",
        "sns.scatterplot(x=x[:, 0], y=x[:, 1], hue=y[y==0], alpha=0.3)\n",
        "plt.show()"
      ]
    },
    {
      "cell_type": "code",
      "execution_count": null,
      "metadata": {},
      "outputs": [],
      "source": [
        "# drops kernel\n",
        "\n",
        "# i = 0\n",
        "# N = 19\n",
        "# for col in features.drop('consumer', axis=1).columns:\n",
        "#     plt.figure()\n",
        "#     sns.histplot(data=features, x=col, hue=y, color='b', alpha=0.3)\n",
        "#     plt.title(col)\n",
        "#     plt.show()\n",
        "#     if i == N:\n",
        "#         break"
      ]
    },
    {
      "attachments": {},
      "cell_type": "markdown",
      "metadata": {},
      "source": [
        "## Yellowbrick "
      ]
    },
    {
      "cell_type": "code",
      "execution_count": null,
      "metadata": {},
      "outputs": [],
      "source": []
    },
    {
      "cell_type": "code",
      "execution_count": null,
      "metadata": {},
      "outputs": [],
      "source": [
        "pca_vis = pca.PCA(heatmap=False)\n",
        "pca_vis.fit(X, y=y)\n",
        "\n",
        "\n",
        "xx = pca_vis.transform(X, y)\n",
        "colors = ['b', 'r']\n",
        "color = [colors[label] for label in y]\n",
        "# markers = ['.', 'x']\n",
        "# marker = [markers[label] for label in y]\n",
        "# plt.scatter(xx[:, 0], xx[:, 1], color=color, marker='x')\n",
        "\n",
        "pca_vis.show()"
      ]
    },
    {
      "cell_type": "code",
      "execution_count": null,
      "metadata": {},
      "outputs": [],
      "source": [
        "x_bad = X[y == 1, :]\n",
        "N = x_bad.shape[0]\n",
        "x_norm_subset = X[y == 0, :][-1-N:-1, :]\n",
        "\n",
        "x_both = np.concatenate([x_bad, x_norm_subset], axis=0)\n",
        "y_both = np.concatenate([np.ones(N), np.zeros(N)], axis=0)\n",
        "# y_both = np.concatenate([['bad'] * N, ['norm'] * N], axis=0)"
      ]
    },
    {
      "cell_type": "code",
      "execution_count": null,
      "metadata": {},
      "outputs": [],
      "source": [
        "methods = ['lle', 'ltsa', 'hessian', 'modified', 'isomap', 'mds', 'spectral', 'tsne']"
      ]
    },
    {
      "cell_type": "code",
      "execution_count": null,
      "metadata": {},
      "outputs": [],
      "source": [
        "method = 'tsne'\n",
        "manifold_vis = manifold_embedding(x_both, y_both, target_type='discrete', method=method)"
      ]
    },
    {
      "cell_type": "code",
      "execution_count": null,
      "metadata": {},
      "outputs": [],
      "source": [
        "manifold = feat.manifold.Manifold(manifold='spectral', target_type='discrete',  )\n",
        "xp = manifold.fit_transform(x_both)\n",
        "\n",
        "plt.figure()\n",
        "sns.scatterplot(x=xp[:,0], y=xp[:,1], hue=y_both)\n",
        "plt.show()"
      ]
    },
    {
      "cell_type": "code",
      "execution_count": null,
      "metadata": {},
      "outputs": [],
      "source": []
    },
    {
      "cell_type": "markdown",
      "metadata": {
        "id": "eu_f53TTgcUA"
      },
      "source": [
        "## Models"
      ]
    },
    {
      "cell_type": "code",
      "execution_count": null,
      "metadata": {
        "id": "rd7kzR_399gP"
      },
      "outputs": [],
      "source": [
        "from sklearn import svm\n",
        "from sklearn.linear_model import LogisticRegression\n",
        "from sklearn.metrics import roc_auc_score, roc_curve, f1_score, auc, precision_score, cohen_kappa_score\n",
        "from sklearn import preprocessing\n"
      ]
    },
    {
      "cell_type": "code",
      "execution_count": null,
      "metadata": {
        "id": "qSlcNrggIP9y"
      },
      "outputs": [],
      "source": [
        "chinese_tsfresh_stats = pd.read_csv(os.path.join(PATH, './X_w_flags.csv'),)"
      ]
    },
    {
      "cell_type": "code",
      "execution_count": null,
      "metadata": {
        "colab": {
          "base_uri": "https://localhost:8080/",
          "height": 284
        },
        "id": "KrMn0mw5Mvis",
        "outputId": "1a8d1775-34c2-4d7e-c566-23522d456830"
      },
      "outputs": [],
      "source": [
        "plt.plot(chinese_tsfresh_stats.isnull().sum())"
      ]
    },
    {
      "cell_type": "code",
      "execution_count": null,
      "metadata": {
        "id": "RGhGnz7hIzQq"
      },
      "outputs": [],
      "source": [
        "chinese_tsfresh_stats.drop(chinese_tsfresh_stats.columns[chinese_tsfresh_stats.isnull().sum() > 20000], axis=1, inplace=True)"
      ]
    },
    {
      "cell_type": "code",
      "execution_count": null,
      "metadata": {
        "colab": {
          "base_uri": "https://localhost:8080/"
        },
        "id": "jO_FMrsfNz0R",
        "outputId": "57588b4f-3463-4fc0-edab-642febdce532"
      },
      "outputs": [],
      "source": [
        "chinese_tsfresh_stats = chinese_tsfresh_stats.fillna(chinese_tsfresh_stats.mean())"
      ]
    },
    {
      "cell_type": "code",
      "execution_count": null,
      "metadata": {
        "id": "l5dp8BLRWDnZ"
      },
      "outputs": [],
      "source": [
        "X = chinese_tsfresh_stats.iloc[:, 1:-1]\n",
        "y = chinese_tsfresh_stats['flags']"
      ]
    },
    {
      "cell_type": "code",
      "execution_count": null,
      "metadata": {
        "id": "tg1CMrRNY64h"
      },
      "outputs": [],
      "source": [
        "def perform_metrics(y_true, y_pred, y_proba, show=True):\n",
        "    f1 = f1_score(y_true, y_pred)\n",
        "    roc_auc = roc_auc_score(y_true, y_proba)\n",
        "    precision = precision_score(y_true, y_pred)\n",
        "    ck = cohen_kappa_score(y_true, y_pred)\n",
        "    fpr, tpr, threshold = roc_curve(y_true, y_proba)\n",
        "    roc_auc = auc(fpr, tpr)\n",
        "    if show:\n",
        "        print('F1 score: {}'.format(f1))\n",
        "        print('Precision: {}'.format(precision))\n",
        "        print('ROC-AUC: {}'.format(roc_auc))\n",
        "        print('Cohen’s kappa score: {}'.format(ck))\n",
        "\n",
        "        plt.title('Receiver Operating Characteristic')\n",
        "        plt.plot(fpr, tpr, 'b', label = 'AUC = %0.2f' % roc_auc)\n",
        "        plt.legend(loc = 'lower right')\n",
        "        plt.plot([0, 1], [0, 1],'r--')\n",
        "        plt.xlim([0, 1])\n",
        "        plt.ylim([0, 1])\n",
        "        plt.ylabel('True Positive Rate')\n",
        "        plt.xlabel('False Positive Rate')\n",
        "        plt.show()\n",
        "\n",
        "    return [f1, roc_auc, precision, ck, fpr, tpr, threshold, roc_auc]"
      ]
    },
    {
      "cell_type": "code",
      "execution_count": null,
      "metadata": {
        "id": "gAQHVOSg7GaA"
      },
      "outputs": [],
      "source": [
        "def kfold_train(X, y, model, n_folds=5):\n",
        "    skf = StratifiedKFold(n_splits=n_folds)\n",
        "    for fold, (train_index, test_index) in enumerate(skf.split(X, y)):\n",
        "        X_train, X_test = X.iloc[train_index], X.iloc[test_index]\n",
        "        y_train, y_test = y.iloc[train_index], y.iloc[test_index]\n",
        "\n",
        "        print(\"Fold: {}\".format(fold))\n",
        "        fold_model = deepcopy(model)\n",
        "        fold_model.fit(X_train, y_train)\n",
        "\n",
        "        print(\"Train performance --->\")\n",
        "        train_perform = perform_metrics(y_train, \n",
        "                                        fold_model.predict(X_train), \n",
        "                                        fold_model.predict_proba(X_train)[:, 1],\n",
        "                                        show=True)\n",
        "        print(\"Test performance --->\")\n",
        "        test_perform = perform_metrics(y_test, \n",
        "                                fold_model.predict(X_test), \n",
        "                                fold_model.predict_proba(X_test)[:, 1],\n",
        "                                show=True)\n",
        "        print('\\n\\n')"
      ]
    },
    {
      "cell_type": "markdown",
      "metadata": {
        "id": "hE2uCOC7cwXH"
      },
      "source": [
        "### simple Logreg/SVM"
      ]
    },
    {
      "cell_type": "code",
      "execution_count": null,
      "metadata": {
        "id": "ZwOoy6H2UwYC"
      },
      "outputs": [],
      "source": [
        "scaler = preprocessing.StandardScaler().fit(X[X.columns[X.max() > 1]])"
      ]
    },
    {
      "cell_type": "code",
      "execution_count": null,
      "metadata": {
        "id": "to6uxVp4Vyvn"
      },
      "outputs": [],
      "source": [
        "X[X.columns[X.max() > 1]] = scaler.transform(X[X.columns[X.max() > 1]])"
      ]
    },
    {
      "cell_type": "code",
      "execution_count": null,
      "metadata": {
        "colab": {
          "base_uri": "https://localhost:8080/"
        },
        "id": "VzKqYuQJZNsH",
        "outputId": "3a75baa5-49b1-4342-b5f5-0521cb901ac5"
      },
      "outputs": [],
      "source": [
        "len(y.loc[y == 0]) / len(y)"
      ]
    },
    {
      "cell_type": "code",
      "execution_count": null,
      "metadata": {
        "id": "ez5Q_NLqR_2s"
      },
      "outputs": [],
      "source": [
        "#w = {0:len(y.loc[y == 0]) / len(y), 1:(1 - len(y.loc[y == 0]) / len(y))}\n",
        "lr_model = LogisticRegression(random_state=0, max_iter=10000) #class_weight=w"
      ]
    },
    {
      "cell_type": "code",
      "execution_count": null,
      "metadata": {
        "colab": {
          "base_uri": "https://localhost:8080/",
          "height": 1000
        },
        "id": "I2_58YXVYEpp",
        "outputId": "a58cf565-b04a-484e-946f-e7a05c96ce5b"
      },
      "outputs": [],
      "source": [
        "kfold_train(X, y, lr_model)"
      ]
    },
    {
      "cell_type": "markdown",
      "metadata": {
        "id": "eKteTZTqaY_a"
      },
      "source": [
        "### Catboost"
      ]
    },
    {
      "cell_type": "code",
      "execution_count": null,
      "metadata": {
        "colab": {
          "base_uri": "https://localhost:8080/"
        },
        "id": "qoCNhc55c51U",
        "outputId": "dfa0c69c-419e-4d37-d590-9fba7edf89e1"
      },
      "outputs": [],
      "source": [
        "! pip3 install catboost"
      ]
    },
    {
      "cell_type": "code",
      "execution_count": null,
      "metadata": {
        "id": "4MLNyfUNmSkA"
      },
      "outputs": [],
      "source": [
        "X = chinese_tsfresh_stats.iloc[:, 1:-1]\n",
        "y = chinese_tsfresh_stats['flags']"
      ]
    },
    {
      "cell_type": "code",
      "execution_count": null,
      "metadata": {
        "id": "yZ2Xue6RabFq"
      },
      "outputs": [],
      "source": [
        "from catboost import CatBoostClassifier, Pool"
      ]
    },
    {
      "cell_type": "code",
      "execution_count": null,
      "metadata": {
        "id": "_D7mI3b7mmB6"
      },
      "outputs": [],
      "source": [
        "catboost_model = CatBoostClassifier(silent=True)"
      ]
    },
    {
      "cell_type": "code",
      "execution_count": null,
      "metadata": {
        "colab": {
          "base_uri": "https://localhost:8080/",
          "height": 1000
        },
        "id": "ADWHr0AZmiXh",
        "outputId": "0644ce2b-148a-4c66-bcad-585be78a65c4"
      },
      "outputs": [],
      "source": [
        "kfold_train(X, y, catboost_model)"
      ]
    },
    {
      "cell_type": "code",
      "execution_count": null,
      "metadata": {
        "id": "GsjOlulUc4H6"
      },
      "outputs": [],
      "source": [
        "train_data = Pool(data=X,\n",
        "                  label=y)"
      ]
    },
    {
      "cell_type": "code",
      "execution_count": null,
      "metadata": {
        "id": "uwHP3Prbdu0D"
      },
      "outputs": [],
      "source": [
        "model = CatBoostClassifier()"
      ]
    },
    {
      "cell_type": "code",
      "execution_count": null,
      "metadata": {
        "id": "k05apODgd_nD"
      },
      "outputs": [],
      "source": [
        "model.fit(train_data)"
      ]
    },
    {
      "cell_type": "code",
      "execution_count": null,
      "metadata": {
        "colab": {
          "base_uri": "https://localhost:8080/"
        },
        "id": "plgkyrk3eMRb",
        "outputId": "8a53adee-e150-48d1-dd21-02fd5231f894"
      },
      "outputs": [],
      "source": [
        "f1_score(y, model.predict(X))"
      ]
    },
    {
      "cell_type": "code",
      "execution_count": null,
      "metadata": {
        "colab": {
          "base_uri": "https://localhost:8080/"
        },
        "id": "1ubffqU4fVmH",
        "outputId": "ab340c07-ce0b-439c-d464-8fdf09ae225c"
      },
      "outputs": [],
      "source": [
        "roc_auc_score(y, model.predict_proba(X)[:, 1])"
      ]
    },
    {
      "cell_type": "code",
      "execution_count": null,
      "metadata": {
        "id": "S7NwdwOlfaGQ"
      },
      "outputs": [],
      "source": [
        "fpr, tpr, threshold = roc_curve(y, model.predict_proba(X)[:, 1])\n",
        "roc_auc = auc(fpr, tpr)"
      ]
    },
    {
      "cell_type": "code",
      "execution_count": null,
      "metadata": {
        "colab": {
          "base_uri": "https://localhost:8080/",
          "height": 295
        },
        "id": "ow-_GU-DgZop",
        "outputId": "1f84a881-e3a4-4498-e825-bcd8a45b6136"
      },
      "outputs": [],
      "source": [
        "import matplotlib.pyplot as plt\n",
        "plt.title('Receiver Operating Characteristic')\n",
        "plt.plot(fpr, tpr, 'b', label = 'AUC = %0.2f' % roc_auc)\n",
        "plt.legend(loc = 'lower right')\n",
        "plt.plot([0, 1], [0, 1],'r--')\n",
        "plt.xlim([0, 1])\n",
        "plt.ylim([0, 1])\n",
        "plt.ylabel('True Positive Rate')\n",
        "plt.xlabel('False Positive Rate')\n",
        "plt.show()\n"
      ]
    },
    {
      "cell_type": "code",
      "execution_count": null,
      "metadata": {
        "id": "Cl2Uc_JihBlc"
      },
      "outputs": [],
      "source": []
    }
  ],
  "metadata": {
    "accelerator": "GPU",
    "colab": {
      "collapsed_sections": [],
      "provenance": []
    },
    "kernelspec": {
      "display_name": "base",
      "language": "python",
      "name": "python3"
    },
    "language_info": {
      "codemirror_mode": {
        "name": "ipython",
        "version": 3
      },
      "file_extension": ".py",
      "mimetype": "text/x-python",
      "name": "python",
      "nbconvert_exporter": "python",
      "pygments_lexer": "ipython3",
      "version": "3.9.16"
    },
    "notify_time": "5",
    "toc": {
      "base_numbering": 1,
      "nav_menu": {},
      "number_sections": true,
      "sideBar": true,
      "skip_h1_title": false,
      "title_cell": "Table of Contents",
      "title_sidebar": "Contents",
      "toc_cell": false,
      "toc_position": {},
      "toc_section_display": true,
      "toc_window_display": false
    },
    "vscode": {
      "interpreter": {
        "hash": "fcfb873cee342a126465f28e5fb90ec8215345ad5e209fbd2ecc8bbd5ba5a2be"
      }
    }
  },
  "nbformat": 4,
  "nbformat_minor": 0
}
