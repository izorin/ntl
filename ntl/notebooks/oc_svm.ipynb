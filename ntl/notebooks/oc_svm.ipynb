{
 "cells": [
  {
   "cell_type": "code",
   "execution_count": 1,
   "metadata": {},
   "outputs": [],
   "source": [
    "%load_ext autoreload\n",
    "%autoreload 2"
   ]
  },
  {
   "cell_type": "code",
   "execution_count": 49,
   "metadata": {},
   "outputs": [],
   "source": [
    "import numpy as np\n",
    "import pandas as pd\n",
    "import sklearn as sk\n",
    "from sklearn.model_selection import train_test_split\n",
    "\n",
    "import sys\n",
    "CODE_PATH = '/home/ivan/dev/code/ntl/'\n",
    "sys.path.append(CODE_PATH)\n",
    "\n",
    "from ntl.data import download_data, get_dataset, SGCCDataset\n",
    "from ntl.data.transforms import FillNA, Scale, Diff, Cutout\n"
   ]
  },
  {
   "cell_type": "code",
   "execution_count": null,
   "metadata": {},
   "outputs": [],
   "source": [
    "# data_path = '/home/ivan/dev/data/sgcc/'\n",
    "# download_data(data_path)\n",
    "\n",
    "# data = get_dataset(data_path + 'data.csv')"
   ]
  },
  {
   "cell_type": "code",
   "execution_count": 32,
   "metadata": {},
   "outputs": [],
   "source": [
    "\n",
    "DATA_PATH = data_path + 'data.csv'\n",
    "\n",
    "transforms = [\n",
    "    FillNA('drift'), \n",
    "    # Cutout(256), \n",
    "    Scale('minmax'), \n",
    "    # Diff(1)\n",
    "]\n",
    "\n",
    "# normal_dataset = SGCCDataset(DATA_PATH, label=0, nan_ratio=0.75, transforms=transforms, year=2016)\n",
    "\n",
    "# anomal_dataset = SGCCDataset(DATA_PATH, label=1, nan_ratio=1.0, transforms=transforms, year=2016)\n",
    "\n",
    "sgcc_kwargs = {\n",
    "    'path': DATA_PATH,\n",
    "    'transforms': transforms,\n",
    "    'year': 2016,\n",
    "    'nan_ratio': 0.75\n",
    "}\n",
    "def sgcc_train_test_split(split_ratio=0.8, **sgcc_kwargs):\n",
    "    \n",
    "    normal_dataset = SGCCDataset(label=0, **sgcc_kwargs)\n",
    "    anomal_dataset = SGCCDataset(label=1, **sgcc_kwargs)\n",
    "    \n",
    "    anomal_data, anomal_labels = anomal_dataset.get_data()\n",
    "    normal_data, normal_labels = normal_dataset.get_data()\n",
    "    \n",
    "    N = anomal_data.shape[0]\n",
    "    \n",
    "    train, test = train_test_split(normal_data, test_size=N)\n",
    "    test = np.concatenate([test, anomal_data])\n",
    "    train_labels = np.zeros((train.shape[0], 1))\n",
    "    test_labels = np.concatenate([np.zeros((N, 1)), np.ones((N, 1))])\n",
    "    \n",
    "    return train, train_labels, test, test_labels\n"
   ]
  },
  {
   "cell_type": "code",
   "execution_count": 64,
   "metadata": {},
   "outputs": [],
   "source": [
    "X_train, Y_train, X_test, Y_test = sgcc_train_test_split(**sgcc_kwargs)"
   ]
  },
  {
   "cell_type": "code",
   "execution_count": 84,
   "metadata": {},
   "outputs": [
    {
     "data": {
      "text/plain": [
       "(35138, 304)"
      ]
     },
     "execution_count": 84,
     "metadata": {},
     "output_type": "execute_result"
    }
   ],
   "source": []
  },
  {
   "cell_type": "code",
   "execution_count": 67,
   "metadata": {},
   "outputs": [
    {
     "data": {
      "text/plain": [
       "((7128, 304), (7128, 1))"
      ]
     },
     "execution_count": 67,
     "metadata": {},
     "output_type": "execute_result"
    }
   ],
   "source": [
    "X_test.shape, Y_test.shape"
   ]
  }
 ],
 "metadata": {
  "kernelspec": {
   "display_name": "torch",
   "language": "python",
   "name": "python3"
  },
  "language_info": {
   "codemirror_mode": {
    "name": "ipython",
    "version": 3
   },
   "file_extension": ".py",
   "mimetype": "text/x-python",
   "name": "python",
   "nbconvert_exporter": "python",
   "pygments_lexer": "ipython3",
   "version": "3.11.5"
  }
 },
 "nbformat": 4,
 "nbformat_minor": 2
}
