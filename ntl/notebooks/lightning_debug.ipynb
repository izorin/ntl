{
 "cells": [
  {
   "cell_type": "code",
   "execution_count": 1,
   "metadata": {},
   "outputs": [],
   "source": [
    "%load_ext autoreload \n",
    "%autoreload 2"
   ]
  },
  {
   "cell_type": "code",
   "execution_count": 2,
   "metadata": {},
   "outputs": [],
   "source": [
    "import os \n",
    "import sys \n",
    "import torch \n",
    "from torch import nn\n",
    "import torch.nn.functional as F\n",
    "from torch.utils.data import DataLoader\n",
    "import lightning.pytorch as pl\n",
    "import wandb\n",
    "import numpy as np \n",
    "import matplotlib.pyplot as plt\n",
    "from lightning.pytorch.loggers import WandbLogger\n",
    "\n",
    "\n",
    "sys.path.append('/Users/ivan_zorin/Documents/DEV/code/ntl/')\n",
    "\n",
    "from models import *\n",
    "from data.data import SGCCDataset, sgcc_train_test_split\n",
    "from utils.utils import *\n",
    "\n",
    "from tqdm.auto import tqdm \n",
    "import models"
   ]
  },
  {
   "cell_type": "code",
   "execution_count": 20,
   "metadata": {},
   "outputs": [
    {
     "name": "stderr",
     "output_type": "stream",
     "text": [
      "/Users/ivan_zorin/opt/miniconda3/envs/pytorch/lib/python3.9/site-packages/lightning/pytorch/loggers/wandb.py:395: UserWarning: There is a wandb run already in progress and newly created instances of `WandbLogger` will reuse this run. If this is not desired, call `wandb.finish()` before instantiating `WandbLogger`.\n",
      "  rank_zero_warn(\n",
      "Global seed set to 42\n"
     ]
    }
   ],
   "source": [
    "# config and logger\n",
    "pathes_file = '../configs/local_pathes.yaml'\n",
    "config_path = '../configs/config.yaml'\n",
    "\n",
    "config = load_config(config_path, pathes_file)\n",
    "wandb_logger = WandbLogger(**config.logger) # TODO move this inside LightningModule\n",
    "# wandb.save(config_path) # save config file\n",
    "\n",
    "# random seed\n",
    "if config.seed is not None:\n",
    "    pl.seed_everything(config.seed, workers=True)"
   ]
  },
  {
   "cell_type": "code",
   "execution_count": 35,
   "metadata": {},
   "outputs": [
    {
     "data": {
      "text/plain": [
       "'/Users/ivan_zorin/Documents/DEV/runs/wandb/offline-run-20230602_114942-qrg7d6kc/files'"
      ]
     },
     "execution_count": 35,
     "metadata": {},
     "output_type": "execute_result"
    }
   ],
   "source": [
    "wandb.run.dir # TODO use this to init tensorboard experiment"
   ]
  },
  {
   "cell_type": "code",
   "execution_count": null,
   "metadata": {},
   "outputs": [],
   "source": [
    "# data\n",
    "train_data, val_data, test_data = sgcc_train_test_split(config)\n",
    "num_workers = config.num_workers\n",
    "train_loader = DataLoader(train_data, batch_size=config.batch_size, shuffle=True, num_workers=num_workers)\n",
    "\n",
    "if config.supervised_validation:\n",
    "    val_loader = DataLoader(test_data, batch_size=config.batch_size, shuffle=False,  num_workers=num_workers)\n",
    "    \n",
    "else:\n",
    "    val_loader = DataLoader(val_data, batch_size=config.batch_size, shuffle=False, num_workers=num_workers)\n",
    "    test_loader = DataLoader(test_data, batch_size=config.batch_size, shuffle=False,  num_workers=num_workers)\n",
    "\n"
   ]
  },
  {
   "cell_type": "code",
   "execution_count": null,
   "metadata": {},
   "outputs": [],
   "source": [
    "# base model\n",
    "nn_model = getattr(models, config.model)\n",
    "nn_model = nn_model(**config.model_kwargs)\n",
    "# Lightning model\n",
    "model = LitLSTMAE(\n",
    "    model=nn_model,\n",
    "    loss_fn=getattr(torch.nn.functional, config.loss),\n",
    "    optimizer=getattr(torch.optim, config.optimizer),\n",
    "    scheduler=getattr(torch.optim.lr_scheduler, config.scheduler),\n",
    "    config=config\n",
    ")\n"
   ]
  },
  {
   "cell_type": "code",
   "execution_count": null,
   "metadata": {},
   "outputs": [],
   "source": [
    "# Trainer\n",
    "trainer = pl.Trainer(accelerator=config.device,\n",
    "                        logger=wandb_logger,\n",
    "                        \n",
    "                        **config.trainer_kwargs\n",
    "\n",
    "                        \n",
    ")\n"
   ]
  },
  {
   "cell_type": "code",
   "execution_count": null,
   "metadata": {},
   "outputs": [],
   "source": [
    "# fit loop\n",
    "trainer.fit(\n",
    "    model=model,\n",
    "    train_dataloaders=train_loader,\n",
    "    val_dataloaders=val_loader,\n",
    ")"
   ]
  },
  {
   "cell_type": "code",
   "execution_count": null,
   "metadata": {},
   "outputs": [],
   "source": [
    "# test() if validation was unsupervised\n",
    "if not config.supervised_validation:\n",
    "    trainer.test(model, test_loader)\n",
    "\n"
   ]
  },
  {
   "cell_type": "code",
   "execution_count": null,
   "metadata": {},
   "outputs": [],
   "source": [
    "# upload logs\n",
    "model.clear_mem()\n",
    "wandb.finish()"
   ]
  },
  {
   "cell_type": "code",
   "execution_count": null,
   "metadata": {},
   "outputs": [],
   "source": []
  },
  {
   "cell_type": "code",
   "execution_count": 3,
   "metadata": {},
   "outputs": [
    {
     "data": {
      "application/vnd.plotly.v1+json": {
       "config": {
        "plotlyServerURL": "https://plot.ly"
       },
       "data": [
        {
         "marker": {
          "color": [
           0.9674189449025884,
           0.0245798273893989,
           0.26574388839104346,
           0.2447216424606421,
           0.17788449242851123,
           0.0467436207100097,
           0.006444731894584055,
           0.46229632254347175,
           0.202421771085864,
           0.2557858986070748,
           0.23837244607588848,
           0.6013677240645382,
           0.9705373828795266,
           0.5133918784986125,
           0.4013265431229486,
           0.7419665397659075,
           0.4100324633435902,
           0.28159962855294696,
           0.632980965823712,
           0.6521745189149151,
           0.7770033732800712,
           0.28726518240169796,
           0.9496679290054393,
           0.9175666343910797,
           0.10562301194069601,
           0.6194239352605886,
           0.373331455804218,
           0.635555253610956,
           0.21832226019688017,
           0.1247479377563081,
           0.14588188694008064,
           0.7364162035200418,
           0.08371482900706306,
           0.012271723218239994,
           0.5363600193081656,
           0.6857511075862477,
           0.12469621483044291,
           0.4990773310918587,
           0.1792865605606031,
           0.04880790275269675,
           0.5161106735413168,
           0.5130961639398268,
           0.21758067580984208,
           0.28382781594090434,
           0.15696937572813086,
           0.5207957585134179,
           0.4165774833988142,
           0.10523269747040587,
           0.34785280285294273,
           0.27963168073820355,
           0.2618915417608543,
           0.8855159162799245,
           0.009335363393778495,
           0.3417404793490729,
           0.5306951561751174,
           0.8733858405663207,
           0.3573889360829652,
           0.6060684163779133,
           0.010410073130543762,
           0.12132187638415193,
           0.9620722759623522,
           0.767893547846471,
           0.2631022964813706,
           0.7029744971488943,
           0.27990115099744195,
           0.6952186793399783,
           0.22713288760125017,
           0.7777000876679969,
           0.0013718564325194693,
           0.7172677355193592,
           0.18239829823558007,
           0.840569735154878,
           0.14636774250233542,
           0.8805943738652274,
           0.42475293983807705,
           0.7166713927167274,
           0.23548425985353483,
           0.7592110778771669,
           0.7772215332360651,
           0.38961104006153313,
           0.30716799201691747,
           0.20673915605432136,
           0.8072404054033717,
           0.5565275661593146,
           0.48691150333195077,
           0.32325159584373186,
           0.7124682544598615,
           0.522387124794552,
           0.4484726227389544,
           0.794731588595417,
           0.3483056154778482,
           0.88480224158291,
           0.004593461495146944,
           0.5076941201442011,
           0.690181582165673,
           0.15815750202513157,
           0.5381536126460423,
           0.39671103705715693,
           0.7859764670321187,
           0.7973283280884386
          ],
          "colorscale": [
           [
            0,
            "#440154"
           ],
           [
            0.1111111111111111,
            "#482878"
           ],
           [
            0.2222222222222222,
            "#3e4989"
           ],
           [
            0.3333333333333333,
            "#31688e"
           ],
           [
            0.4444444444444444,
            "#26828e"
           ],
           [
            0.5555555555555556,
            "#1f9e89"
           ],
           [
            0.6666666666666666,
            "#35b779"
           ],
           [
            0.7777777777777778,
            "#6ece58"
           ],
           [
            0.8888888888888888,
            "#b5de2b"
           ],
           [
            1,
            "#fde725"
           ]
          ],
          "opacity": 0.6,
          "size": [
           17.305055713135197,
           5.209350882648019,
           26.33281463525398,
           16.079943571386558,
           20.171134415070117,
           18.499334253146316,
           29.727256784995742,
           28.901458663588727,
           12.598064636408191,
           12.376731233847678,
           8.598452297700328,
           1.2698774952510783,
           9.20839473837436,
           5.792710775309877,
           10.315126729172558,
           14.258785087612345,
           11.528396554301901,
           4.52251832345679,
           26.717393907269162,
           12.14701350099027,
           29.88261858336839,
           9.36725659811733,
           4.751102828211269,
           18.534605535085007,
           10.78826490582041,
           19.66093239547295,
           24.43690858643071,
           1.3497692983092469,
           22.464486314235515,
           22.745268631350385,
           12.543568399734431,
           29.525961062189612,
           7.261468042707544,
           7.183554939441175,
           22.25598051362705,
           11.465786084454718,
           3.241397240933297,
           18.15340017771218,
           16.06856880423927,
           10.500358184134143,
           5.457912039400744,
           1.3329201934856294,
           13.145408181515268,
           7.9222070613877,
           3.2945839178088123,
           14.995520503834122,
           12.414726918528295,
           23.42059056058987,
           27.25376287570727,
           27.85103908259483,
           2.174400891843462,
           18.099181520592506,
           11.168855905223971,
           15.379416318374489,
           20.702998832210973,
           0.9932542830480717,
           18.673082040103775,
           15.867977082000666,
           3.416934413836057,
           23.207646554515577,
           15.930457611912118,
           5.821792738601868,
           20.525074684244274,
           5.293360456198823,
           24.378981318615597,
           0.27982935091448,
           1.913281998735935,
           2.433598260744476,
           14.518572055560359,
           26.48336430907648,
           20.563068780395927,
           29.067468826937006,
           17.014094662270633,
           13.834814807988305,
           2.545704994207748,
           12.01897231534238,
           11.504124293168866,
           22.75406032258823,
           18.19097365469821,
           14.716299836618216,
           23.083466400729716,
           1.3209200727638148,
           26.371768854891968,
           17.02718473302437,
           9.816798732116006,
           0.8348917193235261,
           15.856435588515776,
           9.179600746453028,
           3.1840274826570525,
           10.817684770778236,
           11.395905269397549,
           7.676965746418093,
           12.129951509870734,
           1.171092013340288,
           27.38796495782008,
           10.475152476247487,
           22.171207425163164,
           20.453673719650062,
           8.371223070805671,
           14.83233794000243
          ]
         },
         "mode": "markers",
         "type": "scatter",
         "x": [
          0.3058323641913515,
          0.957848637569555,
          0.33203377575262016,
          0.03991568926504585,
          0.6775897871373804,
          0.9370191485468387,
          0.8504840958001688,
          0.3944761173070185,
          0.0015426031715579658,
          0.9338891319913145,
          0.13244706833541597,
          0.39199750764590047,
          0.309516562752176,
          0.3776381629565039,
          0.9501458653750224,
          0.5871357697092847,
          0.8497165067427639,
          0.7765146668761778,
          0.7856154372396363,
          0.7082376826175075,
          0.7139825190292849,
          0.49467222097051755,
          0.8928679187391542,
          0.34529343197986617,
          0.33880312274079294,
          0.05672653472224831,
          0.3680681600237702,
          0.09642049854440493,
          0.9421664537582884,
          0.12950507140697443,
          0.337631176514643,
          0.28237692401564973,
          0.13052157092882888,
          0.18229304439728722,
          0.9570143790315518,
          0.7485673072012337,
          0.5587962174249854,
          0.8932040317537607,
          0.46463781419716643,
          0.665187707655405,
          0.4345089980331033,
          0.6690433999991406,
          0.5595608006023731,
          0.2606791406837946,
          0.5714714060574023,
          0.3368188763016926,
          0.36227164492689257,
          0.15319997839227362,
          0.9990320666744896,
          0.4312354155461169,
          0.2041418828069509,
          0.8550113768052581,
          0.1801797113034337,
          0.7936441277964493,
          0.8465563905777248,
          0.42705541779620293,
          0.06359843882500715,
          0.39038250390658147,
          0.49637569185380537,
          0.013366275034801034,
          0.3020570267017212,
          0.4156161595988628,
          0.7787171472823328,
          0.4271933156054043,
          0.6851810629576738,
          0.20408233366407413,
          0.8352613744308727,
          0.6631575612629612,
          0.2370367397191101,
          0.08397246586767193,
          0.05949420497330293,
          0.5884860085382465,
          0.7971167773692116,
          0.515446338727776,
          0.30390411801807093,
          0.6615018317115967,
          0.1233945019560464,
          0.48752441690979575,
          0.13269810324294684,
          0.02556725431667861,
          0.3720441435375772,
          0.19697922437057336,
          0.02543381996125471,
          0.5973233594703511,
          0.9696774743568606,
          0.321225428566998,
          0.41137683450814244,
          0.5993393998490978,
          0.6810869566120341,
          0.30163526960391673,
          0.7293663966847256,
          0.7893458107738747,
          0.3114914882052321,
          0.06168696774082372,
          0.523816278782366,
          0.7739574484724335,
          0.7156947614110094,
          0.9308393906108445,
          0.9418855132303343,
          0.8863865997175497
         ],
         "y": [
          0.6691831752353348,
          0.8139273971644817,
          0.48821258853547755,
          0.0019789412789449345,
          0.4835036359768645,
          0.5915630151144609,
          0.21382928063697115,
          0.5913219297873114,
          0.9208692397499111,
          0.3910774012450883,
          0.1315189767656093,
          0.6007302615848542,
          0.913441393086579,
          0.8290813035124456,
          0.8949882336884093,
          0.8259622326717785,
          0.09229282604213063,
          0.610374076888663,
          0.06503895368981738,
          0.7819986033176948,
          0.6120437336933446,
          0.06575676370896022,
          0.05738103341609402,
          0.7791422097876782,
          0.45901327799804703,
          0.6062665186386347,
          0.06387932294509202,
          0.8894753441133543,
          0.9301075875129248,
          0.09055136513181494,
          0.548554203388509,
          0.5849157522441872,
          0.2263055296012706,
          0.4414576458835493,
          0.5295375486148295,
          0.051348359776253294,
          0.8899087393029624,
          0.48807082541395785,
          0.5484642603808034,
          0.7396171004421142,
          0.06247212170838479,
          0.49432490775334637,
          0.1594672106196049,
          0.5661531554260477,
          0.6996135070998025,
          0.8507832898347397,
          0.01598111479895581,
          0.29698602209791614,
          0.8029231598221054,
          0.3180973920897894,
          0.5187568500156503,
          0.45173323778997976,
          0.056290228744939275,
          0.9136812730345972,
          0.15062572380773676,
          0.9243750626947312,
          0.945388347091378,
          0.11992678324457973,
          0.3426611011786006,
          0.9988251706469267,
          0.12938279696141086,
          0.7117095129702997,
          0.9028778643464298,
          0.17748326746377197,
          0.17455631526470805,
          0.22276391318644695,
          0.02516722034941954,
          0.8741620939702889,
          0.7633902043260777,
          0.0073385508864859395,
          0.5861961182911711,
          0.41566095667048286,
          0.41746655804126787,
          0.9058714481611008,
          0.785184085431271,
          0.7367831543351824,
          0.3873083575133548,
          0.6888257269462039,
          0.06765961329619874,
          0.6555807405517449,
          0.4212799799856316,
          0.15058385955511866,
          0.8961553047403806,
          0.8378357004807259,
          0.9832228352208014,
          0.20684734585175124,
          0.3650796945389021,
          0.035685785054782926,
          0.5179883727404369,
          0.39253501492362175,
          0.1199327611949923,
          0.7416154107660298,
          0.5015580154805342,
          0.352464710694149,
          0.7631670436747091,
          0.5355021799070224,
          0.44580224200332097,
          0.9093067435233475,
          0.31027965063053575,
          0.8464714652723773
         ]
        }
       ],
       "layout": {
        "template": {
         "data": {
          "bar": [
           {
            "error_x": {
             "color": "#2a3f5f"
            },
            "error_y": {
             "color": "#2a3f5f"
            },
            "marker": {
             "line": {
              "color": "#E5ECF6",
              "width": 0.5
             },
             "pattern": {
              "fillmode": "overlay",
              "size": 10,
              "solidity": 0.2
             }
            },
            "type": "bar"
           }
          ],
          "barpolar": [
           {
            "marker": {
             "line": {
              "color": "#E5ECF6",
              "width": 0.5
             },
             "pattern": {
              "fillmode": "overlay",
              "size": 10,
              "solidity": 0.2
             }
            },
            "type": "barpolar"
           }
          ],
          "carpet": [
           {
            "aaxis": {
             "endlinecolor": "#2a3f5f",
             "gridcolor": "white",
             "linecolor": "white",
             "minorgridcolor": "white",
             "startlinecolor": "#2a3f5f"
            },
            "baxis": {
             "endlinecolor": "#2a3f5f",
             "gridcolor": "white",
             "linecolor": "white",
             "minorgridcolor": "white",
             "startlinecolor": "#2a3f5f"
            },
            "type": "carpet"
           }
          ],
          "choropleth": [
           {
            "colorbar": {
             "outlinewidth": 0,
             "ticks": ""
            },
            "type": "choropleth"
           }
          ],
          "contour": [
           {
            "colorbar": {
             "outlinewidth": 0,
             "ticks": ""
            },
            "colorscale": [
             [
              0,
              "#0d0887"
             ],
             [
              0.1111111111111111,
              "#46039f"
             ],
             [
              0.2222222222222222,
              "#7201a8"
             ],
             [
              0.3333333333333333,
              "#9c179e"
             ],
             [
              0.4444444444444444,
              "#bd3786"
             ],
             [
              0.5555555555555556,
              "#d8576b"
             ],
             [
              0.6666666666666666,
              "#ed7953"
             ],
             [
              0.7777777777777778,
              "#fb9f3a"
             ],
             [
              0.8888888888888888,
              "#fdca26"
             ],
             [
              1,
              "#f0f921"
             ]
            ],
            "type": "contour"
           }
          ],
          "contourcarpet": [
           {
            "colorbar": {
             "outlinewidth": 0,
             "ticks": ""
            },
            "type": "contourcarpet"
           }
          ],
          "heatmap": [
           {
            "colorbar": {
             "outlinewidth": 0,
             "ticks": ""
            },
            "colorscale": [
             [
              0,
              "#0d0887"
             ],
             [
              0.1111111111111111,
              "#46039f"
             ],
             [
              0.2222222222222222,
              "#7201a8"
             ],
             [
              0.3333333333333333,
              "#9c179e"
             ],
             [
              0.4444444444444444,
              "#bd3786"
             ],
             [
              0.5555555555555556,
              "#d8576b"
             ],
             [
              0.6666666666666666,
              "#ed7953"
             ],
             [
              0.7777777777777778,
              "#fb9f3a"
             ],
             [
              0.8888888888888888,
              "#fdca26"
             ],
             [
              1,
              "#f0f921"
             ]
            ],
            "type": "heatmap"
           }
          ],
          "heatmapgl": [
           {
            "colorbar": {
             "outlinewidth": 0,
             "ticks": ""
            },
            "colorscale": [
             [
              0,
              "#0d0887"
             ],
             [
              0.1111111111111111,
              "#46039f"
             ],
             [
              0.2222222222222222,
              "#7201a8"
             ],
             [
              0.3333333333333333,
              "#9c179e"
             ],
             [
              0.4444444444444444,
              "#bd3786"
             ],
             [
              0.5555555555555556,
              "#d8576b"
             ],
             [
              0.6666666666666666,
              "#ed7953"
             ],
             [
              0.7777777777777778,
              "#fb9f3a"
             ],
             [
              0.8888888888888888,
              "#fdca26"
             ],
             [
              1,
              "#f0f921"
             ]
            ],
            "type": "heatmapgl"
           }
          ],
          "histogram": [
           {
            "marker": {
             "pattern": {
              "fillmode": "overlay",
              "size": 10,
              "solidity": 0.2
             }
            },
            "type": "histogram"
           }
          ],
          "histogram2d": [
           {
            "colorbar": {
             "outlinewidth": 0,
             "ticks": ""
            },
            "colorscale": [
             [
              0,
              "#0d0887"
             ],
             [
              0.1111111111111111,
              "#46039f"
             ],
             [
              0.2222222222222222,
              "#7201a8"
             ],
             [
              0.3333333333333333,
              "#9c179e"
             ],
             [
              0.4444444444444444,
              "#bd3786"
             ],
             [
              0.5555555555555556,
              "#d8576b"
             ],
             [
              0.6666666666666666,
              "#ed7953"
             ],
             [
              0.7777777777777778,
              "#fb9f3a"
             ],
             [
              0.8888888888888888,
              "#fdca26"
             ],
             [
              1,
              "#f0f921"
             ]
            ],
            "type": "histogram2d"
           }
          ],
          "histogram2dcontour": [
           {
            "colorbar": {
             "outlinewidth": 0,
             "ticks": ""
            },
            "colorscale": [
             [
              0,
              "#0d0887"
             ],
             [
              0.1111111111111111,
              "#46039f"
             ],
             [
              0.2222222222222222,
              "#7201a8"
             ],
             [
              0.3333333333333333,
              "#9c179e"
             ],
             [
              0.4444444444444444,
              "#bd3786"
             ],
             [
              0.5555555555555556,
              "#d8576b"
             ],
             [
              0.6666666666666666,
              "#ed7953"
             ],
             [
              0.7777777777777778,
              "#fb9f3a"
             ],
             [
              0.8888888888888888,
              "#fdca26"
             ],
             [
              1,
              "#f0f921"
             ]
            ],
            "type": "histogram2dcontour"
           }
          ],
          "mesh3d": [
           {
            "colorbar": {
             "outlinewidth": 0,
             "ticks": ""
            },
            "type": "mesh3d"
           }
          ],
          "parcoords": [
           {
            "line": {
             "colorbar": {
              "outlinewidth": 0,
              "ticks": ""
             }
            },
            "type": "parcoords"
           }
          ],
          "pie": [
           {
            "automargin": true,
            "type": "pie"
           }
          ],
          "scatter": [
           {
            "fillpattern": {
             "fillmode": "overlay",
             "size": 10,
             "solidity": 0.2
            },
            "type": "scatter"
           }
          ],
          "scatter3d": [
           {
            "line": {
             "colorbar": {
              "outlinewidth": 0,
              "ticks": ""
             }
            },
            "marker": {
             "colorbar": {
              "outlinewidth": 0,
              "ticks": ""
             }
            },
            "type": "scatter3d"
           }
          ],
          "scattercarpet": [
           {
            "marker": {
             "colorbar": {
              "outlinewidth": 0,
              "ticks": ""
             }
            },
            "type": "scattercarpet"
           }
          ],
          "scattergeo": [
           {
            "marker": {
             "colorbar": {
              "outlinewidth": 0,
              "ticks": ""
             }
            },
            "type": "scattergeo"
           }
          ],
          "scattergl": [
           {
            "marker": {
             "colorbar": {
              "outlinewidth": 0,
              "ticks": ""
             }
            },
            "type": "scattergl"
           }
          ],
          "scattermapbox": [
           {
            "marker": {
             "colorbar": {
              "outlinewidth": 0,
              "ticks": ""
             }
            },
            "type": "scattermapbox"
           }
          ],
          "scatterpolar": [
           {
            "marker": {
             "colorbar": {
              "outlinewidth": 0,
              "ticks": ""
             }
            },
            "type": "scatterpolar"
           }
          ],
          "scatterpolargl": [
           {
            "marker": {
             "colorbar": {
              "outlinewidth": 0,
              "ticks": ""
             }
            },
            "type": "scatterpolargl"
           }
          ],
          "scatterternary": [
           {
            "marker": {
             "colorbar": {
              "outlinewidth": 0,
              "ticks": ""
             }
            },
            "type": "scatterternary"
           }
          ],
          "surface": [
           {
            "colorbar": {
             "outlinewidth": 0,
             "ticks": ""
            },
            "colorscale": [
             [
              0,
              "#0d0887"
             ],
             [
              0.1111111111111111,
              "#46039f"
             ],
             [
              0.2222222222222222,
              "#7201a8"
             ],
             [
              0.3333333333333333,
              "#9c179e"
             ],
             [
              0.4444444444444444,
              "#bd3786"
             ],
             [
              0.5555555555555556,
              "#d8576b"
             ],
             [
              0.6666666666666666,
              "#ed7953"
             ],
             [
              0.7777777777777778,
              "#fb9f3a"
             ],
             [
              0.8888888888888888,
              "#fdca26"
             ],
             [
              1,
              "#f0f921"
             ]
            ],
            "type": "surface"
           }
          ],
          "table": [
           {
            "cells": {
             "fill": {
              "color": "#EBF0F8"
             },
             "line": {
              "color": "white"
             }
            },
            "header": {
             "fill": {
              "color": "#C8D4E3"
             },
             "line": {
              "color": "white"
             }
            },
            "type": "table"
           }
          ]
         },
         "layout": {
          "annotationdefaults": {
           "arrowcolor": "#2a3f5f",
           "arrowhead": 0,
           "arrowwidth": 1
          },
          "autotypenumbers": "strict",
          "coloraxis": {
           "colorbar": {
            "outlinewidth": 0,
            "ticks": ""
           }
          },
          "colorscale": {
           "diverging": [
            [
             0,
             "#8e0152"
            ],
            [
             0.1,
             "#c51b7d"
            ],
            [
             0.2,
             "#de77ae"
            ],
            [
             0.3,
             "#f1b6da"
            ],
            [
             0.4,
             "#fde0ef"
            ],
            [
             0.5,
             "#f7f7f7"
            ],
            [
             0.6,
             "#e6f5d0"
            ],
            [
             0.7,
             "#b8e186"
            ],
            [
             0.8,
             "#7fbc41"
            ],
            [
             0.9,
             "#4d9221"
            ],
            [
             1,
             "#276419"
            ]
           ],
           "sequential": [
            [
             0,
             "#0d0887"
            ],
            [
             0.1111111111111111,
             "#46039f"
            ],
            [
             0.2222222222222222,
             "#7201a8"
            ],
            [
             0.3333333333333333,
             "#9c179e"
            ],
            [
             0.4444444444444444,
             "#bd3786"
            ],
            [
             0.5555555555555556,
             "#d8576b"
            ],
            [
             0.6666666666666666,
             "#ed7953"
            ],
            [
             0.7777777777777778,
             "#fb9f3a"
            ],
            [
             0.8888888888888888,
             "#fdca26"
            ],
            [
             1,
             "#f0f921"
            ]
           ],
           "sequentialminus": [
            [
             0,
             "#0d0887"
            ],
            [
             0.1111111111111111,
             "#46039f"
            ],
            [
             0.2222222222222222,
             "#7201a8"
            ],
            [
             0.3333333333333333,
             "#9c179e"
            ],
            [
             0.4444444444444444,
             "#bd3786"
            ],
            [
             0.5555555555555556,
             "#d8576b"
            ],
            [
             0.6666666666666666,
             "#ed7953"
            ],
            [
             0.7777777777777778,
             "#fb9f3a"
            ],
            [
             0.8888888888888888,
             "#fdca26"
            ],
            [
             1,
             "#f0f921"
            ]
           ]
          },
          "colorway": [
           "#636efa",
           "#EF553B",
           "#00cc96",
           "#ab63fa",
           "#FFA15A",
           "#19d3f3",
           "#FF6692",
           "#B6E880",
           "#FF97FF",
           "#FECB52"
          ],
          "font": {
           "color": "#2a3f5f"
          },
          "geo": {
           "bgcolor": "white",
           "lakecolor": "white",
           "landcolor": "#E5ECF6",
           "showlakes": true,
           "showland": true,
           "subunitcolor": "white"
          },
          "hoverlabel": {
           "align": "left"
          },
          "hovermode": "closest",
          "mapbox": {
           "style": "light"
          },
          "paper_bgcolor": "white",
          "plot_bgcolor": "#E5ECF6",
          "polar": {
           "angularaxis": {
            "gridcolor": "white",
            "linecolor": "white",
            "ticks": ""
           },
           "bgcolor": "#E5ECF6",
           "radialaxis": {
            "gridcolor": "white",
            "linecolor": "white",
            "ticks": ""
           }
          },
          "scene": {
           "xaxis": {
            "backgroundcolor": "#E5ECF6",
            "gridcolor": "white",
            "gridwidth": 2,
            "linecolor": "white",
            "showbackground": true,
            "ticks": "",
            "zerolinecolor": "white"
           },
           "yaxis": {
            "backgroundcolor": "#E5ECF6",
            "gridcolor": "white",
            "gridwidth": 2,
            "linecolor": "white",
            "showbackground": true,
            "ticks": "",
            "zerolinecolor": "white"
           },
           "zaxis": {
            "backgroundcolor": "#E5ECF6",
            "gridcolor": "white",
            "gridwidth": 2,
            "linecolor": "white",
            "showbackground": true,
            "ticks": "",
            "zerolinecolor": "white"
           }
          },
          "shapedefaults": {
           "line": {
            "color": "#2a3f5f"
           }
          },
          "ternary": {
           "aaxis": {
            "gridcolor": "white",
            "linecolor": "white",
            "ticks": ""
           },
           "baxis": {
            "gridcolor": "white",
            "linecolor": "white",
            "ticks": ""
           },
           "bgcolor": "#E5ECF6",
           "caxis": {
            "gridcolor": "white",
            "linecolor": "white",
            "ticks": ""
           }
          },
          "title": {
           "x": 0.05
          },
          "xaxis": {
           "automargin": true,
           "gridcolor": "white",
           "linecolor": "white",
           "ticks": "",
           "title": {
            "standoff": 15
           },
           "zerolinecolor": "white",
           "zerolinewidth": 2
          },
          "yaxis": {
           "automargin": true,
           "gridcolor": "white",
           "linecolor": "white",
           "ticks": "",
           "title": {
            "standoff": 15
           },
           "zerolinecolor": "white",
           "zerolinewidth": 2
          }
         }
        }
       }
      }
     },
     "metadata": {},
     "output_type": "display_data"
    }
   ],
   "source": [
    "N = 100\n",
    "x = np.random.rand(N)\n",
    "y = np.random.rand(N)\n",
    "colors = np.random.rand(N)\n",
    "sz = np.random.rand(N) * 30\n",
    "\n",
    "fig = go.Figure()\n",
    "fig.add_trace(go.Scatter(\n",
    "    x=x,\n",
    "    y=y,\n",
    "    mode=\"markers\",\n",
    "    marker=go.scatter.Marker(\n",
    "        size=sz,\n",
    "        color=colors,\n",
    "        opacity=0.6,\n",
    "        colorscale=\"Viridis\"\n",
    "    )\n",
    "))"
   ]
  },
  {
   "cell_type": "code",
   "execution_count": 10,
   "metadata": {},
   "outputs": [],
   "source": [
    "temp = fig.to_image(format='svg', )"
   ]
  },
  {
   "cell_type": "code",
   "execution_count": 11,
   "metadata": {},
   "outputs": [],
   "source": [
    "import PIL as pil"
   ]
  },
  {
   "cell_type": "code",
   "execution_count": 32,
   "metadata": {},
   "outputs": [
    {
     "ename": "ValueError",
     "evalue": "not enough image data",
     "output_type": "error",
     "traceback": [
      "\u001b[0;31m---------------------------------------------------------------------------\u001b[0m",
      "\u001b[0;31mValueError\u001b[0m                                Traceback (most recent call last)",
      "Cell \u001b[0;32mIn[32], line 1\u001b[0m\n\u001b[0;32m----> 1\u001b[0m im \u001b[39m=\u001b[39m pil\u001b[39m.\u001b[39;49mImage\u001b[39m.\u001b[39;49mfrombytes(\u001b[39m'\u001b[39;49m\u001b[39mRGB\u001b[39;49m\u001b[39m'\u001b[39;49m, size\u001b[39m=\u001b[39;49m(\u001b[39m200\u001b[39;49m, \u001b[39m200\u001b[39;49m), data\u001b[39m=\u001b[39;49mtemp)\n",
      "File \u001b[0;32m~/opt/miniconda3/envs/pytorch/lib/python3.9/site-packages/PIL/Image.py:2969\u001b[0m, in \u001b[0;36mfrombytes\u001b[0;34m(mode, size, data, decoder_name, *args)\u001b[0m\n\u001b[1;32m   2966\u001b[0m     args \u001b[39m=\u001b[39m mode\n\u001b[1;32m   2968\u001b[0m im \u001b[39m=\u001b[39m new(mode, size)\n\u001b[0;32m-> 2969\u001b[0m im\u001b[39m.\u001b[39;49mfrombytes(data, decoder_name, args)\n\u001b[1;32m   2970\u001b[0m \u001b[39mreturn\u001b[39;00m im\n",
      "File \u001b[0;32m~/opt/miniconda3/envs/pytorch/lib/python3.9/site-packages/PIL/Image.py:830\u001b[0m, in \u001b[0;36mImage.frombytes\u001b[0;34m(self, data, decoder_name, *args)\u001b[0m\n\u001b[1;32m    828\u001b[0m \u001b[39mif\u001b[39;00m s[\u001b[39m0\u001b[39m] \u001b[39m>\u001b[39m\u001b[39m=\u001b[39m \u001b[39m0\u001b[39m:\n\u001b[1;32m    829\u001b[0m     msg \u001b[39m=\u001b[39m \u001b[39m\"\u001b[39m\u001b[39mnot enough image data\u001b[39m\u001b[39m\"\u001b[39m\n\u001b[0;32m--> 830\u001b[0m     \u001b[39mraise\u001b[39;00m \u001b[39mValueError\u001b[39;00m(msg)\n\u001b[1;32m    831\u001b[0m \u001b[39mif\u001b[39;00m s[\u001b[39m1\u001b[39m] \u001b[39m!=\u001b[39m \u001b[39m0\u001b[39m:\n\u001b[1;32m    832\u001b[0m     msg \u001b[39m=\u001b[39m \u001b[39m\"\u001b[39m\u001b[39mcannot decode image data\u001b[39m\u001b[39m\"\u001b[39m\n",
      "\u001b[0;31mValueError\u001b[0m: not enough image data"
     ]
    }
   ],
   "source": [
    "im = pil.Image.frombytes('RGB', size=(200, 200), data=temp)"
   ]
  },
  {
   "cell_type": "code",
   "execution_count": 29,
   "metadata": {},
   "outputs": [],
   "source": [
    "im.show()"
   ]
  }
 ],
 "metadata": {
  "kernelspec": {
   "display_name": "pytorch",
   "language": "python",
   "name": "python3"
  },
  "language_info": {
   "codemirror_mode": {
    "name": "ipython",
    "version": 3
   },
   "file_extension": ".py",
   "mimetype": "text/x-python",
   "name": "python",
   "nbconvert_exporter": "python",
   "pygments_lexer": "ipython3",
   "version": "3.9.16"
  },
  "orig_nbformat": 4
 },
 "nbformat": 4,
 "nbformat_minor": 2
}
