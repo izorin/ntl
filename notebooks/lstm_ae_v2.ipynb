{
 "cells": [
  {
   "cell_type": "code",
   "execution_count": 3,
   "metadata": {},
   "outputs": [
    {
     "name": "stdout",
     "output_type": "stream",
     "text": [
      "The tensorboard extension is already loaded. To reload it, use:\n",
      "  %reload_ext tensorboard\n"
     ]
    }
   ],
   "source": [
    "%load_ext tensorboard\n",
    "%load_ext autoreload\n",
    "%autoreload 2"
   ]
  },
  {
   "cell_type": "code",
   "execution_count": 4,
   "metadata": {},
   "outputs": [],
   "source": [
    "import torch\n",
    "from torch import nn\n",
    "import torch.nn.functional as F\n",
    "from torch import utils\n",
    "from torch.utils.data import DataLoader\n",
    "\n",
    "import numpy as np\n",
    "from tqdm.auto import tqdm\n",
    "\n",
    "import sys\n",
    "# sys.path.append('/content/ntl/')\n",
    "sys.path.append('/Users/ivan_zorin/Documents/DEV/code/ntl/')\n",
    "\n",
    "from data.data import sgcc_train_test_split, SGCCDataset\n",
    "from models import LSTMAE_old"
   ]
  },
  {
   "cell_type": "code",
   "execution_count": 10,
   "metadata": {},
   "outputs": [],
   "source": [
    "data_path = '/Users/ivan_zorin/Documents/DEV/data/sgcc/data.csv'\n",
    "scale = 'minmax'\n",
    "nan_ratio = 0.7\n",
    "batch_size = 32\n",
    "\n",
    "input_size = 1\n",
    "hidden_size = [64]\n",
    "lr = 0.0001\n",
    "factor = 0.5\n",
    "patience = 3\n",
    "\n",
    "N_epochs = 20\n",
    "\n",
    "device = 'cuda' if torch.cuda.is_available() else 'cpu'"
   ]
  },
  {
   "cell_type": "code",
   "execution_count": 11,
   "metadata": {},
   "outputs": [],
   "source": [
    "normal_dataset = SGCCDataset(path=data_path, label=0, scale=scale, nan_ratio=nan_ratio)\n",
    "anomal_dataset = SGCCDataset(path=data_path, label=1, scale=scale)\n",
    "\n",
    "train_data, val_data, test_normal_data = utils.data.random_split(normal_dataset, [len(normal_dataset) - 2*len(anomal_dataset), len(anomal_dataset), len(anomal_dataset)])\n",
    "test_data = utils.data.ConcatDataset([test_normal_data, anomal_dataset])\n",
    "\n",
    "train_loader = DataLoader(train_data, batch_size=batch_size, shuffle=True)\n",
    "val_loader = DataLoader(test_data, batch_size=batch_size, shuffle=False)"
   ]
  },
  {
   "cell_type": "code",
   "execution_count": 12,
   "metadata": {},
   "outputs": [],
   "source": [
    "model = LSTMAE_old(input_size, hidden_size)\n",
    "optim = torch.optim.Adam(model.parameters(), lr=lr)\n",
    "scheduler = torch.optim.lr_scheduler.ReduceLROnPlateau(optim, mode='min', factor=factor, patience=patience)\n",
    "loss_fn = nn.L1Loss()\n",
    "logger = torch.utils.tensorboard.SummaryWriter('~/Documents/DEV/runs/debug/')"
   ]
  },
  {
   "cell_type": "code",
   "execution_count": null,
   "metadata": {},
   "outputs": [],
   "source": [
    "train_len = len(train_loader)\n",
    "val_len = len(val_loader)\n",
    "\n",
    "for epoch in range(N_epochs):\n",
    "    train_losses, val_losses = [], []\n",
    "    train_embeddings, val_embeddings = [], []\n",
    "\n",
    "    t = tqdm(train_loader)\n",
    "    model.train()\n",
    "    for i, batch in enumerate(t):\n",
    "        y, x, _ = batch\n",
    "        x = x.to(device)\n",
    "        z, x_hat = model(x)\n",
    "        loss = loss_fn(x, x_hat)\n",
    "        \n",
    "        optim.zero_grad()\n",
    "        loss.backward()\n",
    "        optim.step()\n",
    "        \n",
    "        train_losses.append(loss.item())\n",
    "        train_embeddings.append(z.detach().cpu().numpy().squeeze())\n",
    "        step = i + train_len * epoch\n",
    "        logger.add_scalar('train/loss', loss.item(), step)\n",
    "    \n",
    "    train_embeddings = np.concatenate(train_embeddings)\n",
    "    train_loss = torch.cat(train_losses).mean()\n",
    "    logger.add_embedding('train/embs', train_embeddings, epoch)\n",
    "    \n",
    "    t = tqdm(val_loader)\n",
    "    model.eval()\n",
    "    for i, batch in enumerate(t):\n",
    "        with torch.no_grad():\n",
    "            y, x, _ = batch\n",
    "            x = x.to(device)\n",
    "            z, x_hat = model(x)\n",
    "            loss = loss_fn(x, x_hat)\n",
    "            \n",
    "            val_losses.append(loss.item())\n",
    "            val_embeddings.append(z.detach().cpu().numpy().squeeze())\n",
    "            step = i + train_len * epoch\n",
    "            logger.add_scalar('val/loss', loss.item(), step)\n",
    "            \n",
    "    val_embeddings = np.concatenate(val_embeddings)\n",
    "    val_loss = torch.cat(val_losses).mean()\n",
    "    logger.add_embedding('val/embs', val_embeddings, epoch)\n",
    "    \n",
    "    scheduler.step(val_loss)\n",
    "    logger.add_scalars('loss', {'train': train_loss, 'val': val_loss}, epoch)\n",
    "    \n",
    "    "
   ]
  }
 ],
 "metadata": {
  "kernelspec": {
   "display_name": "pytorch",
   "language": "python",
   "name": "python3"
  },
  "language_info": {
   "codemirror_mode": {
    "name": "ipython",
    "version": 3
   },
   "file_extension": ".py",
   "mimetype": "text/x-python",
   "name": "python",
   "nbconvert_exporter": "python",
   "pygments_lexer": "ipython3",
   "version": "3.9.16"
  },
  "orig_nbformat": 4
 },
 "nbformat": 4,
 "nbformat_minor": 2
}
