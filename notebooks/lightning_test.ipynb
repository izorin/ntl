{
 "cells": [
  {
   "cell_type": "code",
   "execution_count": 1,
   "metadata": {},
   "outputs": [],
   "source": [
    "%load_ext autoreload \n",
    "%autoreload 2"
   ]
  },
  {
   "cell_type": "code",
   "execution_count": 4,
   "metadata": {},
   "outputs": [],
   "source": [
    "import os \n",
    "import sys \n",
    "import torch \n",
    "from torch import nn\n",
    "import torch.nn.functional as F\n",
    "import lightning.pytorch as pl\n",
    "\n",
    "\n",
    "sys.path.append('/Users/ivan_zorin/Documents/AIRI/code/ntl/')\n",
    "\n",
    "from models import LitLSTMAE\n",
    "from data.data import SGCCDataset, train_test_split\n",
    "from utils.utils import get_config"
   ]
  },
  {
   "cell_type": "code",
   "execution_count": null,
   "metadata": {},
   "outputs": [],
   "source": [
    "\n",
    "\n",
    "normal_dataset = SGCCDataset(path=DATA_PATH, label=0, scale='minmax')\n",
    "anomal_dataset = SGCCDataset(path=DATA_PATH, label=1, scale='minmax')"
   ]
  }
 ],
 "metadata": {
  "kernelspec": {
   "display_name": "pytorch",
   "language": "python",
   "name": "python3"
  },
  "language_info": {
   "codemirror_mode": {
    "name": "ipython",
    "version": 3
   },
   "file_extension": ".py",
   "mimetype": "text/x-python",
   "name": "python",
   "nbconvert_exporter": "python",
   "pygments_lexer": "ipython3",
   "version": "3.9.16"
  },
  "orig_nbformat": 4
 },
 "nbformat": 4,
 "nbformat_minor": 2
}
